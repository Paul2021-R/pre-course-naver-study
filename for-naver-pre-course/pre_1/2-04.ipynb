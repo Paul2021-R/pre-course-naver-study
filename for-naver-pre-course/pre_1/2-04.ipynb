{
 "cells": [
  {
   "cell_type": "code",
   "execution_count": 22,
   "id": "a64ade82",
   "metadata": {},
   "outputs": [
    {
     "name": "stdout",
     "output_type": "stream",
     "text": [
      "check it!\n",
      "0\n",
      "7\n",
      "True\n",
      "True\n",
      "    test.  \n",
      "test\n",
      "['test', 'abcd', 'zexc']\n"
     ]
    }
   ],
   "source": [
    "a = 'TEAM'\n",
    "b = 'TESTTESTE'\n",
    "\n",
    "if 'ES' in b:\n",
    "    print('check it!')\n",
    "else :\n",
    "    print('Fail case')\n",
    "    \n",
    "print(b.find('TE'))\n",
    "print(b.rfind('TE'))\n",
    "print(b.startswith('TE'))\n",
    "print(b.endswith('TE'))\n",
    "\n",
    "c = '    test.  helo'\n",
    "print(c.strip('helo'))\n",
    "d = '    test     '\n",
    "print(d.strip())\n",
    "e = 'test abcd zexc'\n",
    "print(e.split())\n"
   ]
  },
  {
   "cell_type": "code",
   "execution_count": 24,
   "id": "fb8c4f65",
   "metadata": {},
   "outputs": [
    {
     "name": "stdout",
     "output_type": "stream",
     "text": [
      "False\n",
      "True\n",
      "False\n",
      "True\n",
      "False\n",
      "False\n",
      "False\n",
      "False\n",
      "False\n"
     ]
    }
   ],
   "source": [
    "k = 'abc'\n",
    "e = '123'\n",
    "j = 'aDc'\n",
    "\n",
    "print(k.isdigit())\n",
    "print(k.islower())\n",
    "print(k.isupper())\n",
    "print(e.isdigit())\n",
    "print(e.islower())\n",
    "print(e.isupper())\n",
    "print(j.isupper())\n",
    "print(j.islower())\n",
    "print(j.isdigit())\n",
    "\n"
   ]
  },
  {
   "cell_type": "code",
   "execution_count": 26,
   "id": "7021b788",
   "metadata": {},
   "outputs": [
    {
     "name": "stdout",
     "output_type": "stream",
     "text": [
      "it's ok.\n"
     ]
    }
   ],
   "source": [
    "a = 'it\\'s ok.'\n",
    "\n",
    "print (a)"
   ]
  },
  {
   "cell_type": "code",
   "execution_count": 27,
   "id": "21e9fd14",
   "metadata": {},
   "outputs": [
    {
     "name": "stdout",
     "output_type": "stream",
     "text": [
      "it's ok\n"
     ]
    }
   ],
   "source": [
    "a = \"it's ok\"\n",
    "print(a)"
   ]
  },
  {
   "cell_type": "code",
   "execution_count": 32,
   "id": "03aa1a11",
   "metadata": {},
   "outputs": [
    {
     "name": "stdout",
     "output_type": "stream",
     "text": [
      "it's Ok \n",
      "Im happy\n",
      "see you\n",
      "it's Ok \\nIm happy\\nsee you\n"
     ]
    }
   ],
   "source": [
    "a = \"\"\"it's Ok \\nIm happy\\nsee you\"\"\"\n",
    "b = r\"\"\"it's Ok \\nIm happy\\nsee you\"\"\"\n",
    "\n",
    "print(a)\n",
    "print(b)"
   ]
  },
  {
   "cell_type": "code",
   "execution_count": 37,
   "id": "886dcbf7",
   "metadata": {},
   "outputs": [
    {
     "name": "stdout",
     "output_type": "stream",
     "text": [
      "['Lorem ipsum dolor sit amet, consectetur adipiscing elit. Vivamus eu tellus elit. Donec a pretium lacus. Aliquam in venenatis nisi. Sed et lobortis orci. Quisque feugiat blandit libero vel porta. Vivamus fermentum leo ut lectus elementum auctor. Duis non vestibulum velit. Nunc nec nunc sed purus vulputate sagittis. Morbi efficitur hendrerit purus id imperdiet. Fusce quis interdum felis, et viverra justo. Proin interdum condimentum ex, et semper elit mollis sed.\\n', '\\n', 'Ut pharetra feugiat lacus vitae suscipit. Nulla sit amet gravida ex. Maecenas sed mauris aliquet, varius erat ac, pretium enim. Integer tincidunt mi vitae placerat tincidunt. Praesent fermentum commodo augue ac tincidunt. Vestibulum id pellentesque augue. Aliquam dictum velit nec tellus ultrices posuere. Cras sit amet sem lorem. Proin ut hendrerit urna, sit amet cursus justo. Nunc semper ante nec nisi ornare fringilla. Donec consequat at lacus sit amet vehicula. Nam iaculis ex nunc, at faucibus nisl interdum vel. Sed ornare, magna tempus pulvinar mattis, velit lectus sollicitudin tortor, nec tristique lacus purus vitae libero.\\n', '\\n', 'Cras et nunc vel leo feugiat pellentesque vel vitae neque. Vestibulum ac nibh lorem. Pellentesque convallis nisl ut elementum euismod. Praesent lectus nisl, vulputate sed velit vel, sagittis pharetra mauris. Mauris eleifend mattis laoreet. Nam commodo urna ut libero interdum, nec lobortis arcu tincidunt. Vestibulum sollicitudin lacinia ipsum, nec cursus massa aliquam vel. Nulla vel neque sem. Nulla ac purus bibendum, commodo libero aliquet, porttitor tellus. Vestibulum tristique turpis eget mi facilisis porta. Quisque pharetra eleifend egestas. Mauris porta orci enim, non molestie erat efficitur vitae. Sed imperdiet ipsum in ullamcorper dapibus. Donec fermentum, risus ut consectetur aliquet, ipsum risus semper purus, tempor porttitor nisi urna in massa. Donec in tincidunt turpis.\\n', '\\n', 'In fermentum purus dictum maximus fermentum. Nunc congue mi elit, vel sodales est dapibus eu. Aenean ac elementum quam. Integer quis placerat ante. Duis ullamcorper ante vel dolor viverra, malesuada cursus felis ultricies. Nunc et purus vel felis molestie vehicula ut a sapien. Donec eu elit eros. Mauris iaculis felis sed dapibus facilisis. Ut nisl mi, tincidunt vitae faucibus vel, convallis eu nulla. Phasellus condimentum ipsum in convallis hendrerit. Orci varius natoque penatibus et magnis dis parturient montes, nascetur ridiculus mus. Sed venenatis, purus nec sollicitudin pretium, leo tellus sagittis nibh, non blandit mauris erat ut turpis. Praesent vitae pulvinar nulla. Sed in varius dolor. Nunc vel enim in elit sollicitudin malesuada a sed sem.\\n', '\\n', 'Aenean fermentum rhoncus suscipit. Pellentesque scelerisque dui at convallis varius. Proin volutpat leo viverra nulla rhoncus placerat. Vivamus tincidunt tortor sed elit elementum, id rhoncus nunc pretium. Quisque at hendrerit lectus. Sed rhoncus, nulla at laoreet fermentum, leo lacus tristique tellus, dapibus varius mauris augue ultrices est. In non lacus tellus. Integer porta quam vel commodo varius.\\n', '\\n', 'Aenean placerat et purus eget sagittis. Donec sit amet libero condimentum, convallis eros quis, rhoncus lorem. Sed ac dui felis. Nullam vehicula turpis lacus, ac molestie ligula ultrices sed. Nulla libero ipsum, vulputate sed tellus sit amet, feugiat finibus ex. Phasellus ultrices elit nec risus rhoncus, eget imperdiet tellus interdum. Etiam mollis lorem ex, ut venenatis nibh pellentesque sit amet. Quisque maximus diam sit amet ligula sodales eleifend. Sed vel laoreet nisi. Maecenas consequat pulvinar erat, eget dapibus leo blandit eget. In hac habitasse platea dictumst.\\n', '\\n', 'Nunc vitae tortor luctus, lobortis ex porta, aliquet elit. In sit amet hendrerit turpis. Donec eget sem quam. Curabitur blandit leo ante, sed imperdiet lectus hendrerit ut. Vestibulum mollis, nisi eleifend condimentum ultricies, neque dolor euismod sapien, et eleifend nisl lectus vel est. Morbi consectetur maximus enim, vel convallis nunc bibendum ac. Sed eu cursus nulla, vel aliquam nulla. Ut nec posuere orci. Cras feugiat diam at sapien blandit, sit amet tempus risus semper. Mauris efficitur vulputate fringilla. Donec eu orci vel enim condimentum sagittis. Aenean sed efficitur felis. Integer nec dui ut eros vestibulum volutpat.\\n', '\\n', 'Aenean tristique porttitor tempor. Vestibulum scelerisque sagittis porttitor. Nullam commodo semper lorem sed suscipit. Vestibulum auctor augue quis leo congue, vel pulvinar urna ultrices. Proin commodo ornare dui eget posuere. In non ante dignissim, iaculis quam ac, dignissim lorem. Suspendisse potenti. Morbi vestibulum ligula ac semper porttitor. Integer facilisis et justo eu ultrices. Nullam sit amet accumsan arcu. Nullam nibh erat, porttitor a dignissim nec, rhoncus sed leo. Nunc at malesuada lacus. Pellentesque habitant morbi tristique senectus et netus et malesuada fames ac turpis egestas. Suspendisse pellentesque neque eget enim varius posuere nec in lorem. Donec nec velit fringilla, vulputate elit et, efficitur nisl. Suspendisse eget odio viverra massa feugiat convallis.\\n', '\\n', 'Suspendisse sit amet orci enim. Sed sit amet tincidunt mauris. Duis leo orci, vehicula ac aliquet vel, laoreet et ligula. Mauris diam neque, mattis in erat in, efficitur bibendum ex. Nullam elementum venenatis nulla eu vulputate. Donec mattis eget mi id finibus. Class aptent taciti sociosqu ad litora torquent per conubia nostra, per inceptos himenaeos. Cras non semper lacus. Fusce faucibus mi ac metus dignissim tincidunt in non enim.\\n', '\\n', 'Vivamus velit nisl, blandit ac dictum ut, dapibus gravida dui. Curabitur pellentesque mi risus, sit amet iaculis tellus convallis quis. Vivamus a placerat nulla. Vestibulum vulputate nisi vulputate, sollicitudin neque vitae, pretium lorem. Etiam rhoncus, mi id efficitur placerat, sapien tellus ultricies ex, et ullamcorper mauris felis sit amet mi. Fusce tincidunt justo velit, id interdum tortor molestie vel. Duis vel risus suscipit mauris facilisis condimentum. Donec sollicitudin vel odio sit amet pellentesque.\\n', '\\n', 'In tincidunt laoreet elit. Mauris vitae dui vitae augue pharetra convallis. Quisque cursus, ante ac tristique euismod, ante risus aliquet nunc, nec mollis arcu ex sit amet justo. Vestibulum quis nunc lectus. Vivamus mattis posuere risus, vitae aliquam neque. Fusce eu tincidunt enim. Nullam vehicula est eu neque facilisis, et rutrum nisi facilisis. Sed velit nisi, ultricies eget magna id, efficitur sollicitudin ipsum. In vel arcu ante. Pellentesque orci purus, posuere fermentum orci id, suscipit cursus urna. Phasellus imperdiet imperdiet arcu, vel egestas ante congue id. Mauris eleifend eros at turpis commodo molestie.\\n', '\\n', 'Aliquam tempus orci risus, sit amet sodales mauris placerat sollicitudin. Vestibulum commodo consectetur sapien pharetra pulvinar. Proin ut mollis diam, ac maximus est. Ut pulvinar nunc a erat lacinia blandit. Nunc pellentesque lectus tortor, eu porttitor odio porttitor in. Suspendisse hendrerit augue non orci placerat fermentum. Donec mollis, purus et consequat tempor, arcu turpis consequat justo, in faucibus nisi elit vitae odio. Fusce vitae mi erat. Cras in aliquam odio. Ut fermentum velit nec tellus pretium bibendum. Proin ornare, tortor ut finibus maximus, risus sapien laoreet est, et lacinia quam nunc eu mauris. In pellentesque odio maximus nisi rutrum, eu vestibulum tortor condimentum. Fusce mollis, lectus vitae laoreet viverra, dui eros facilisis metus, lobortis laoreet nulla felis eget ipsum.\\n', '\\n', 'Cras facilisis nibh justo, a sodales lacus luctus in. Ut at orci a erat rhoncus facilisis. Quisque id posuere ante, congue consectetur quam. Duis pulvinar ante vel nulla suscipit, et ultrices tortor maximus. Vivamus vulputate, magna non ultricies suscipit, magna ligula blandit dolor, porttitor ultricies sem urna at lectus. Suspendisse tristique leo augue, non placerat augue bibendum quis. Morbi eleifend erat condimentum tincidunt dignissim.\\n', '\\n', 'Proin eu egestas velit. Suspendisse pellentesque consequat massa eget accumsan. Etiam ultrices scelerisque lectus, nec imperdiet odio pellentesque non. Vestibulum sit amet porttitor est. Maecenas vulputate vehicula mi vel lobortis. Suspendisse molestie est a suscipit consequat. Nam quis risus quis lorem accumsan congue eget in leo. Quisque ac nibh vitae quam porttitor interdum eget in lacus. Duis vehicula, velit rutrum tristique feugiat, turpis elit scelerisque odio, id vehicula lectus lorem ut magna.\\n', '\\n', 'Fusce sollicitudin auctor enim in tincidunt. Fusce euismod, magna vitae aliquet pellentesque, ligula justo efficitur ante, vel finibus tellus lorem eget elit. Fusce pellentesque velit nulla. Ut ut vulputate urna. Curabitur ac aliquet arcu. Maecenas vel metus justo. Etiam tortor felis, volutpat ac risus quis, malesuada rhoncus ex. Vestibulum non erat efficitur, cursus lorem at, ultrices diam. Nam tempus tortor ac dui elementum pellentesque. Integer lectus mauris, vulputate at ex dictum, mollis tempor elit. Integer eget sem eu nunc dictum tincidunt vel eget tortor. Praesent id vestibulum quam. Etiam sit amet leo dolor. Mauris vel arcu at metus luctus faucibus.\\n', '\\n', 'Donec maximus ipsum id odio rutrum, commodo malesuada enim placerat. Sed ullamcorper malesuada risus, sit amet finibus libero tempor sed. Sed sit amet vulputate nisl, id aliquet risus. Nunc faucibus suscipit hendrerit. Duis non condimentum eros, non lacinia magna. Donec tellus risus, aliquet iaculis fringilla ornare, egestas sed dolor. Morbi tristique velit vel lorem scelerisque ultricies. Nunc luctus mi non condimentum lobortis. Aenean vel orci lacus. Curabitur tempor sagittis nulla eget fermentum. Mauris massa velit, ultrices sed euismod id, fringilla eget urna.\\n', '\\n', 'Suspendisse libero leo, gravida a pretium a, interdum vel odio. Donec orci libero, pellentesque eu felis vitae, interdum facilisis arcu. Quisque gravida luctus nibh a lobortis. Phasellus scelerisque in velit laoreet suscipit. Nunc venenatis suscipit condimentum. Suspendisse dictum ipsum eu odio hendrerit, rutrum congue eros pretium. Nullam posuere non odio ornare porta. In consectetur egestas erat, ac ultricies nisi eleifend vitae. Praesent id leo cursus, pretium risus et, pulvinar arcu. Donec sed suscipit sapien, vel pharetra enim. Ut ut nulla vitae lorem pretium vestibulum a non risus. Proin a laoreet tellus.\\n', '\\n', 'Nulla pellentesque ipsum eget molestie dignissim. Aenean vel felis massa. In eleifend, leo non pretium imperdiet, lectus lacus vulputate urna, ut luctus nibh tellus id ex. Sed mi massa, pharetra vitae turpis ut, sollicitudin auctor enim. Curabitur eu vestibulum magna. Ut blandit consequat arcu, sit amet blandit mi. Pellentesque varius urna et aliquet venenatis. Proin luctus mi id dapibus facilisis. Suspendisse eget arcu non felis maximus consequat. Nullam ac quam eu ante consectetur condimentum eget sit amet mauris. Etiam id justo hendrerit, interdum neque eu, vulputate ex. Phasellus porttitor varius nisl vel semper. Mauris id vehicula arcu, at semper nunc. Mauris scelerisque, lorem at vestibulum dictum, dolor dui faucibus mi, et blandit lacus nisl non quam. Nam non tellus efficitur, posuere dui sit amet, feugiat ligula.\\n', '\\n', 'Sed turpis sem, lacinia et mollis vel, accumsan vitae est. Sed ante nunc, vehicula ut mollis sed, pharetra non lorem. Morbi aliquet nulla eget ultrices finibus. Vestibulum placerat varius condimentum. Donec commodo libero non lobortis ullamcorper. Maecenas nec dictum leo. Mauris posuere euismod neque finibus vestibulum. Duis a eros gravida, consectetur dolor in, viverra ex. Nunc nec aliquam odio. Cras vestibulum at lacus at tincidunt. Phasellus consequat sed nunc id vestibulum. Mauris at mi rhoncus, pretium nisl nec, vulputate lorem. Vivamus at vestibulum urna. Suspendisse dapibus elit in ante consectetur fringilla.\\n', '\\n', 'Maecenas auctor consectetur diam, eget pellentesque ipsum vulputate ut. Sed enim odio, efficitur tincidunt semper in, malesuada a ligula. Duis ultrices luctus neque. Fusce venenatis quis turpis eget commodo. Quisque id suscipit urna. Morbi dignissim malesuada tincidunt. Ut nec maximus nibh, id vehicula nibh. Maecenas varius condimentum odio, non lacinia nisi interdum nec. Nam finibus nulla justo, eu efficitur lectus dignissim et. Donec efficitur aliquam nisl vitae volutpat.\\n', '\\n', 'Aenean ut metus eget turpis hendrerit fringilla sit amet et urna. Fusce accumsan tellus vel nibh interdum, ut condimentum quam posuere. Donec rutrum nibh vitae augue posuere accumsan. Ut sed vehicula diam, ut tempor tortor. Fusce porttitor aliquet mauris, in hendrerit arcu rhoncus ut. Duis eget elit sit amet erat blandit sagittis. In pharetra dapibus sem. Integer varius vestibulum metus vel tempus. Cras nec feugiat sapien, id congue elit. Nam gravida, erat et egestas interdum, ipsum velit elementum massa, et maximus metus dolor a ipsum. Morbi ac pharetra ipsum, id iaculis orci.\\n', '\\n', 'Etiam nec est dolor. Duis vel laoreet nisi, vitae semper odio. Ut iaculis bibendum ex, convallis fringilla ex eleifend ut. Etiam convallis elit urna, tincidunt dictum ligula ullamcorper ut. Duis a ornare justo. Maecenas velit nisl, venenatis non bibendum in, laoreet vel sapien. Nam mattis finibus urna vitae aliquam. Aenean non euismod eros, eu mattis enim. Donec ut tristique sem. Donec consequat a metus a dictum. Aliquam venenatis sit amet est nec volutpat. Vivamus convallis sapien eget libero dapibus semper efficitur at magna. Fusce porttitor dui a orci rutrum, at scelerisque neque dignissim. Vestibulum sit amet ullamcorper tortor.\\n', '\\n', 'Vestibulum faucibus facilisis egestas. Ut eget turpis eget ante convallis pellentesque. Curabitur malesuada dui sit amet leo maximus, eget dapibus ipsum luctus. Pellentesque suscipit orci eu venenatis vestibulum. Sed vitae tortor ut nunc faucibus varius a ullamcorper metus. Nunc turpis orci, semper sed libero sed, convallis iaculis lorem. Integer porta dui quis sapien mollis, sit amet cursus massa euismod. Phasellus condimentum nisi a erat congue imperdiet. Cras ac mattis nisi, consectetur tincidunt sapien.\\n', '\\n', 'Proin neque ipsum, finibus a feugiat vitae, pulvinar nec tortor. Cras lobortis velit justo, quis varius purus semper vitae. Suspendisse mollis laoreet libero, in egestas tortor semper vitae. Ut ut nulla id erat ornare maximus at sed felis. Morbi in venenatis nulla, nec fermentum lectus. Nam neque diam, ornare eu elementum vitae, commodo vel mauris. Nullam diam diam, pellentesque id congue ut, malesuada vitae erat. Donec malesuada rhoncus metus, ac facilisis nunc tempor at. Lorem ipsum dolor sit amet, consectetur adipiscing elit. Aliquam a magna eros. Suspendisse id metus at orci fringilla maximus. Praesent ac ultricies sem, at vulputate enim. Cras quam dui, faucibus ac vulputate quis, lobortis in est. Sed ultricies commodo augue ut feugiat.\\n', '\\n', 'Nunc viverra fringilla convallis. Nunc tristique velit ut mi euismod accumsan. Maecenas a vehicula tellus. Proin ullamcorper nulla in purus ornare, vel rhoncus orci lacinia. Ut feugiat fermentum magna, sit amet scelerisque metus feugiat id. Pellentesque id eros at eros fermentum tempor. Nunc viverra vulputate cursus. Pellentesque cursus tincidunt turpis sed gravida. Nulla mi sapien, bibendum nec sapien vitae, tincidunt efficitur tortor. Phasellus vel mauris purus. Nullam odio ante, scelerisque quis tempor in, tincidunt eu mauris. Nam viverra vehicula dapibus. In interdum ultricies tortor eget finibus. Duis blandit velit vel egestas euismod. Aliquam maximus vitae nunc sed finibus. Quisque tristique risus eget dolor fermentum bibendum.\\n', '\\n', 'Nunc euismod et nulla sed imperdiet. Morbi quis tristique massa. Curabitur ultrices nisl eu neque interdum ultrices nec sed justo. Praesent et posuere tortor, dictum luctus nibh. Ut in velit consectetur, sodales nibh ac, bibendum mi. Maecenas sed augue interdum, imperdiet lectus tempor, placerat sapien. Maecenas aliquam sit amet metus quis iaculis. In ultrices metus elit, sed tempor urna sagittis nec. Donec auctor eros libero, vel elementum ligula placerat at. Mauris ante nisl, gravida at est ut, vestibulum tincidunt mauris. Morbi ligula orci, tempus ac velit vel, ullamcorper placerat ante. In hac habitasse platea dictumst. Vestibulum ante ipsum primis in faucibus orci luctus et ultrices posuere cubilia curae;\\n', '\\n', 'Fusce dignissim eget felis vel convallis. Fusce vel leo eu est ullamcorper egestas. Mauris non dictum lectus, ac sodales elit. Aenean eu est cursus, pulvinar mi eu, pretium eros. Praesent ultricies risus sed blandit varius. Nam non neque sit amet dui egestas facilisis vitae dictum mauris. Maecenas quis malesuada nisi, quis rhoncus mi. Sed vel tellus vitae orci rutrum scelerisque id et tellus. Fusce massa massa, luctus volutpat sem eget, sodales suscipit tellus. Aliquam erat volutpat.\\n', '\\n', 'Donec pulvinar neque nisl, vitae lacinia elit finibus sit amet. Orci varius natoque penatibus et magnis dis parturient montes, nascetur ridiculus mus. Curabitur in rhoncus lectus, id tristique sapien. Curabitur auctor ullamcorper purus, ut pretium arcu tempor nec. Aliquam erat volutpat. Phasellus tempor lorem vel nisl tristique, in iaculis enim dapibus. Ut maximus aliquet pretium. Integer leo nisl, interdum vel tortor nec, viverra posuere dolor. Pellentesque at ligula eget tellus rhoncus volutpat at non ligula. Phasellus varius dolor nec cursus consequat.\\n', '\\n', 'Etiam eleifend justo ac metus vulputate egestas. Mauris at erat tincidunt, viverra sem in, tincidunt turpis. Nullam mollis quam ligula, vel egestas velit viverra vitae. Fusce aliquet arcu enim, eu rhoncus lectus pulvinar nec. Donec leo erat, commodo at neque in, faucibus pellentesque libero. Ut auctor tincidunt nisi et volutpat. Morbi et dui at neque sagittis pretium. Vivamus vitae lacus a quam pretium dictum. Mauris ac malesuada nisl. Nullam finibus lorem in mauris auctor dictum. Nunc vitae urna finibus, ultrices justo a, condimentum purus. Mauris sit amet orci in odio hendrerit tempus non vitae eros.\\n', '\\n', 'In orci sapien, lobortis ut justo non, imperdiet rhoncus justo. Quisque vel porta ex, elementum aliquet diam. Vestibulum ante ipsum primis in faucibus orci luctus et ultrices posuere cubilia curae; In pharetra magna et magna laoreet, sit amet tempor ex laoreet. Sed viverra, felis eu lobortis tempor, lectus risus varius sem, non lobortis risus magna vel mi. Duis convallis dolor eu eros molestie euismod. Curabitur sodales tortor dui, non luctus massa auctor ac. Donec ornare maximus ligula ultricies eleifend. Pellentesque ante lacus, rutrum quis dolor vestibulum, aliquam porttitor libero. Pellentesque habitant morbi tristique senectus et netus et malesuada fames ac turpis egestas. Integer cursus elit id nulla congue cursus. Cras non vehicula lectus, sit amet tristique nibh. Nullam viverra rhoncus justo malesuada porta.\\n', '\\n', 'Mauris at nulla id tellus pharetra venenatis sed at elit. Ut dui nisi, auctor a augue ut, placerat volutpat lectus. Sed mollis vestibulum urna, sed facilisis arcu venenatis quis. Nam bibendum elit nibh, ut fermentum nulla vulputate eget. Aliquam sit amet venenatis est. Aliquam erat volutpat. Donec orci lectus, porta non sapien at, luctus tristique nisi. Praesent mattis facilisis felis, vitae viverra nisl dictum efficitur.\\n', '\\n', 'Vivamus tellus nulla, scelerisque nec ex a, mollis volutpat nunc. Morbi ultrices arcu eu sodales tincidunt. Integer pellentesque id diam ut porttitor. Etiam mattis sagittis odio id condimentum. Pellentesque magna ex, fringilla vitae risus et, faucibus iaculis elit. Mauris dignissim, arcu vel luctus hendrerit, mi ex molestie tortor, id lacinia eros dolor sed nisi. Donec pretium ligula vel tellus ultrices, non sodales lectus mollis. Mauris vitae rutrum neque, quis vestibulum felis. Sed id dolor tristique dolor aliquet ultrices. Vivamus tincidunt nunc sit amet mi placerat, id viverra sapien vehicula.\\n', '\\n', 'Sed id leo ligula. Vivamus molestie diam at facilisis posuere. Orci varius natoque penatibus et magnis dis parturient montes, nascetur ridiculus mus. Nulla a lobortis tellus. Fusce pulvinar pharetra egestas. Praesent accumsan sit amet turpis sed molestie. Sed velit lacus, congue in sem vel, viverra pharetra arcu. Integer vulputate molestie dolor, nec malesuada sapien molestie quis. Vestibulum tincidunt massa at auctor sagittis. Sed lobortis sem vitae leo scelerisque, sed dapibus mi rhoncus.\\n', '\\n', 'Mauris elementum tortor id tincidunt maximus. Duis sit amet pretium lectus. Vestibulum viverra, tortor eget imperdiet imperdiet, nulla ligula iaculis orci, vel elementum dolor ligula eu metus. Sed ornare, felis id accumsan sollicitudin, tortor dui vestibulum dui, pulvinar posuere sapien eros vitae ligula. Pellentesque ultricies elit turpis, id commodo erat laoreet in. Duis aliquam est eget porta placerat. Praesent porttitor ipsum a quam tempor rhoncus. Praesent eu nisi elit. Integer sed nisl pellentesque, faucibus justo ut, euismod libero. Mauris malesuada lorem nisl, a ultrices est fringilla a. Aliquam orci diam, elementum eget consequat eget, dictum eget eros. Aenean sodales venenatis lacus. Donec euismod dui eu est viverra facilisis. Phasellus eu nulla orci. Integer in imperdiet urna. Vivamus in enim nec orci lobortis tempus.\\n', '\\n', 'Fusce accumsan dapibus auctor. Cras in nisi euismod, blandit lectus vestibulum, aliquet urna. Ut vitae mi lobortis, maximus purus quis, efficitur nunc. Praesent sed elementum quam, ut pretium lorem. Phasellus ac felis quis ante fermentum auctor fringilla sit amet ligula. Sed quis neque molestie sem molestie tristique sed ac orci. Pellentesque volutpat tellus a malesuada blandit. Aliquam metus eros, facilisis in purus et, eleifend mollis ex. Nunc mattis quam a lacus vulputate ornare. Suspendisse potenti. Duis dictum lorem mauris, ut faucibus augue porttitor sit amet. Nunc viverra tempus leo, in scelerisque elit imperdiet eget. Proin iaculis commodo facilisis. In quis justo dolor. Nullam hendrerit porttitor ex luctus faucibus. Praesent rhoncus urna sit amet dui dignissim, sed mattis nunc semper.\\n', '\\n', 'Suspendisse nec diam pellentesque, consectetur metus id, mollis metus. Quisque aliquam lorem non auctor tempor. Donec vel convallis eros, ut accumsan tortor. Curabitur ut rutrum elit. Curabitur fringilla porta urna nec rhoncus. Aliquam sit amet fermentum ante. Nulla at pellentesque nisl. Proin blandit accumsan augue quis vulputate. Fusce euismod iaculis sem, ut placerat lectus dignissim sit amet. Morbi finibus libero ligula, sit amet vehicula turpis pulvinar eu.\\n', '\\n', 'Aliquam vitae rutrum arcu. Etiam aliquet ultricies diam. Etiam id varius elit, rhoncus feugiat est. Phasellus et dui purus. Vestibulum ullamcorper gravida malesuada. Proin consectetur nibh vel libero aliquet dignissim. Curabitur vel tellus eu ipsum viverra varius sed at odio. Vestibulum non pharetra enim. Fusce eget bibendum ligula. Aenean mollis nibh non tortor lacinia auctor.\\n', '\\n', 'Phasellus eu orci mauris. Sed suscipit augue urna, vitae porttitor metus imperdiet quis. Ut cursus mi sed dapibus malesuada. Pellentesque fringilla, libero in imperdiet ultrices, magna lorem scelerisque eros, nec ultrices arcu magna ac mi. Cras et libero vel massa semper sagittis. Vivamus hendrerit dui nec velit porttitor, ut hendrerit mauris faucibus. Donec ut mi ac leo porta pulvinar. Nunc neque justo, pulvinar in gravida nec, pellentesque at tortor. Mauris cursus enim neque, convallis convallis massa interdum in. Suspendisse nisi quam, ultrices pretium laoreet sit amet, sollicitudin eget ligula.\\n', '\\n', 'Ut et est feugiat, posuere tellus in, posuere arcu. Ut eros lectus, elementum eu sodales id, consectetur ac nisl. Maecenas sollicitudin, tortor eu pharetra placerat, est lacus faucibus lectus, ac porttitor urna odio ac magna. Mauris lectus erat, rhoncus non mauris sed, scelerisque auctor orci. Morbi placerat nibh id augue facilisis ornare at lacinia nisi. Sed aliquam blandit sem vel lacinia. Mauris non justo ac nisi rhoncus tempus. Aenean auctor eleifend velit nec dignissim. Duis quis diam gravida sapien dignissim sagittis non eu odio. Aenean condimentum fermentum ex, suscipit luctus tellus iaculis et. Duis massa mi, semper id tristique et, blandit vitae mi. Sed elementum elementum elit quis lobortis. Nulla vel turpis a elit mollis facilisis. Duis sed gravida lacus.\\n', '\\n', 'Nunc sit amet urna nec sem dapibus pulvinar. Donec eget tincidunt est. Aenean pellentesque ipsum felis, eu mattis magna venenatis quis. Aenean varius rhoncus libero. Morbi augue mauris, pretium vitae vestibulum id, malesuada eget orci. Ut venenatis, dolor nec maximus porttitor, lectus nibh imperdiet ex, quis suscipit ante felis ac ante. Aliquam interdum rhoncus molestie. Aliquam feugiat nulla in ultricies tristique. Aliquam eget est purus. Duis eget massa ipsum. Curabitur porttitor auctor mi vitae tempus. Aenean quis odio auctor, suscipit eros et, ultricies ex. Mauris nulla purus, tristique non fringilla in, mollis eu leo. Morbi pharetra ultricies enim id posuere. Vivamus porttitor purus et mi convallis, quis malesuada nisl finibus.\\n', '\\n', 'Nunc varius quam urna, ut rutrum nulla tincidunt at. Nunc nisi magna, porttitor sit amet urna id, tincidunt feugiat dui. Sed quis lacinia ipsum, ut tincidunt nibh. Cras varius ac tellus ut ullamcorper. Donec sit amet metus eu nunc pulvinar finibus. Aenean efficitur vitae sem sagittis tempor. Fusce ac pretium risus. Morbi bibendum mauris sed lorem fermentum, sit amet tristique est porta. Phasellus tempus velit efficitur, luctus ante eget, dictum lacus. Cras rutrum, augue id luctus sollicitudin, dolor magna ultrices ex, sit amet ullamcorper orci ante sed turpis. Sed mauris nibh, eleifend in felis eget, malesuada volutpat arcu. Pellentesque a blandit sem. Donec sodales pharetra viverra. Proin luctus tincidunt ante sed cursus. Proin molestie nibh ac velit pharetra dictum.\\n', '\\n', 'Orci varius natoque penatibus et magnis dis parturient montes, nascetur ridiculus mus. Proin et erat sed dolor pharetra accumsan in in risus. Suspendisse efficitur libero eu velit porta sagittis. Nulla cursus urna egestas, aliquam libero quis, faucibus tellus. Donec vitae eros id turpis imperdiet ultrices quis at ligula. Integer id libero hendrerit, fringilla eros sit amet, sagittis urna. Sed ornare urna metus, maximus tincidunt velit luctus at. Ut mattis mauris ac massa ultricies, a blandit nunc pretium. Donec varius varius ligula ac interdum. Maecenas nec risus nulla. Nulla eget magna eu purus maximus lobortis. In hac habitasse platea dictumst. Donec lectus nisl, sodales ut tincidunt vel, semper a tellus. Donec interdum nisi ut nulla ullamcorper aliquam. Cras tristique a nunc eget blandit. Mauris vehicula lorem et est vulputate vulputate.\\n', '\\n', 'Sed id condimentum risus. Cras blandit ex lectus, vitae egestas enim vulputate sit amet. Nam faucibus, urna quis consectetur maximus, ante dolor consequat velit, vitae ultrices nisi arcu a eros. Donec non aliquam nunc, ac semper arcu. Sed a ornare nisl. Donec laoreet, felis ac commodo volutpat, felis felis facilisis velit, quis iaculis elit turpis tristique nisl. Nunc imperdiet tortor non massa cursus consequat. Sed iaculis blandit auctor.\\n', '\\n', 'Aenean lacinia consequat gravida. Quisque accumsan velit nec pulvinar fermentum. Duis sed risus enim. Morbi rutrum feugiat massa non placerat. Curabitur eleifend tincidunt nisl eget maximus. Maecenas suscipit hendrerit urna, eu hendrerit risus lobortis non. Fusce vehicula venenatis eros non maximus.\\n', '\\n', 'Morbi non magna at ipsum tempor luctus sed vel diam. Cras iaculis non tortor sed aliquet. Etiam a tincidunt nunc. Mauris finibus ut orci placerat maximus. Donec vel viverra leo. Aliquam turpis libero, facilisis at scelerisque ac, fermentum vitae libero. Cras eleifend, ex ut finibus convallis, dui orci efficitur lorem, vitae placerat lacus eros ac mi. Curabitur molestie interdum fermentum. Aliquam dignissim nisi quis arcu convallis, bibendum lobortis sem pellentesque. Sed consectetur odio dapibus velit commodo fringilla et quis tortor. Integer blandit, tellus non semper dignissim, est mi euismod velit, non consectetur diam justo id velit. Sed rhoncus euismod diam, ut sollicitudin erat aliquet elementum. Ut convallis velit et tincidunt congue. Ut eget faucibus erat.\\n', '\\n', 'Aliquam massa nisi, sagittis eu varius et, luctus in ante. Proin sagittis mi eu ullamcorper semper. Phasellus sed mattis orci. Fusce quis mollis orci. Etiam eu tincidunt dolor. Integer posuere ullamcorper eros, eu lobortis magna tincidunt vitae. Duis neque magna, eleifend ac porttitor sed, euismod eu elit. Morbi ut nibh est. Vestibulum venenatis quam sit amet eleifend pharetra.\\n', '\\n', 'Proin sit amet maximus justo. Ut malesuada rutrum interdum. Sed eu nunc at tellus aliquam aliquam. Maecenas interdum tempus urna vitae faucibus. Nam ut velit tempor, lacinia odio in, ultricies lectus. Phasellus blandit tellus sed interdum ullamcorper. Fusce et metus sit amet odio cursus tempor. Phasellus nec metus vehicula, dignissim dui efficitur, elementum felis. Integer dictum enim non commodo sagittis. Ut sed auctor est. Mauris sit amet ante arcu. Praesent mattis ipsum ut justo tristique, vitae venenatis sem convallis. Mauris eu ultricies dui, aliquet sagittis urna. Sed risus justo, mollis et neque vel, lacinia pulvinar tortor. Duis commodo metus a orci tempus cursus. Vestibulum et ex a est aliquam iaculis.\\n', '\\n', 'Etiam ultricies nunc in tempor volutpat. Duis dictum dolor non mauris vulputate elementum. Curabitur at laoreet quam, et laoreet ante. Aliquam in efficitur purus, ac iaculis dolor. Quisque suscipit dui nibh, vel facilisis tortor lobortis eu. Nulla dignissim lectus sit amet lectus vestibulum aliquam. Duis luctus cursus urna, sit amet faucibus ligula commodo vitae. In bibendum, magna quis accumsan sollicitudin, diam nisi lobortis quam, nec laoreet velit odio vel orci. Aliquam orci massa, tempor in ante non, lacinia rhoncus neque. Pellentesque ut justo eu orci sodales faucibus a vitae orci. Aenean dictum vulputate nisl eget fermentum. Donec eget est fringilla, rhoncus mauris ac, posuere nulla. Nam vulputate, ligula vel cursus viverra, odio nisl ultrices est, eget interdum lectus arcu nec justo. Quisque dolor diam, elementum lacinia erat nec, imperdiet ullamcorper nulla. Duis odio mi, vestibulum vitae enim dictum, consectetur commodo eros.\\n', '\\n', 'Proin dictum augue a lectus scelerisque aliquet. Sed hendrerit ullamcorper ornare. Suspendisse potenti. Praesent quis finibus dui, at fermentum lectus. Praesent a magna et elit tempus euismod non vel lectus. Vivamus malesuada ante in mauris blandit, sit amet auctor dolor placerat. Suspendisse sed purus bibendum, gravida est vehicula, ultrices nunc. Vivamus at convallis purus. Nullam mollis quis augue eu aliquet. Sed accumsan dapibus velit ut tristique. Cras sit amet rutrum ligula, quis blandit magna. Nulla dapibus augue eu tristique interdum. Class aptent taciti sociosqu ad litora torquent per conubia nostra, per inceptos himenaeos. Duis euismod, lacus sit amet auctor mollis, nisi felis interdum massa, volutpat aliquam purus arcu nec lacus. In non turpis quis neque varius ullamcorper.\\n', '\\n', 'In quis massa commodo, egestas enim ac, pharetra nibh. Cras et tempus leo, in vehicula neque. Sed ut commodo felis. Praesent dictum arcu orci, vel consequat quam finibus lacinia. Fusce placerat, turpis at commodo dignissim, turpis turpis aliquam arcu, vitae congue turpis nunc a massa. Nulla fringilla sed justo id viverra. Praesent sed eros volutpat justo blandit efficitur. Etiam non blandit sapien, consequat aliquet nisl. Quisque euismod posuere sem quis fermentum. Aliquam mattis in urna id luctus. Vivamus vitae venenatis velit. Integer nec tellus ex. Nulla ut est eget urna convallis aliquet. Sed ut feugiat libero, et egestas quam.\\n', '\\n', 'Suspendisse laoreet tristique nibh, at porta orci cursus id. Aenean sodales ornare varius. In hac habitasse platea dictumst. Cras gravida consequat tempus. Vivamus egestas sollicitudin lorem a dictum. Maecenas id fringilla ipsum. Quisque finibus sagittis diam ut faucibus. In et vulputate odio. Nullam ultricies tortor ut convallis accumsan. Vivamus dictum commodo elit, posuere placerat quam tincidunt vehicula. Proin mi augue, faucibus a tempus vel, laoreet eu velit. Phasellus ultricies, tortor sit amet maximus pulvinar, leo justo tristique velit, sit amet porta risus neque eget urna. Nam vel suscipit elit. Ut suscipit vel turpis sit amet aliquam.\\n', '\\n', 'Etiam luctus non sem eu semper. Vivamus sed justo faucibus, dignissim purus sit amet, dignissim felis. Fusce varius semper mi eleifend tincidunt. Sed bibendum diam ut urna bibendum, ac viverra magna tincidunt. Aliquam sapien mauris, condimentum a suscipit eget, efficitur in sem. Aliquam non lacinia tellus, ut congue massa. Aliquam congue mattis luctus. Fusce tempus mattis lacinia. Donec porttitor egestas velit, vel faucibus urna aliquet et.\\n', '\\n', 'Ut fringilla mi eros, at sodales turpis tempor et. Integer luctus hendrerit feugiat. Integer mollis id neque at malesuada. Donec id felis lectus. Donec imperdiet turpis ut est ornare accumsan. Nunc sollicitudin tellus a odio imperdiet, non placerat elit blandit. Integer sodales arcu in ultrices dignissim. Vivamus pulvinar eros orci, non accumsan tortor placerat a. Donec posuere lectus vitae augue laoreet interdum. Mauris in venenatis neque, eu accumsan odio. Morbi libero est, posuere vitae dolor quis, cursus fringilla tellus. Quisque ac odio sollicitudin, porttitor arcu ac, suscipit urna. Donec a massa iaculis, porttitor sapien et, sollicitudin enim. Cras posuere semper mauris, eget elementum lorem cursus vulputate. Nam quis ligula quis nisl auctor gravida id et arcu. Mauris scelerisque facilisis lectus, porttitor commodo dui tristique eget.\\n', '\\n', 'Aenean sit amet laoreet augue, quis convallis elit. Donec vitae velit at est consectetur tempus. Sed quis ultrices odio, eu facilisis mauris. Morbi semper at leo id ultricies. Morbi a gravida leo. Duis sodales sagittis tellus fringilla placerat. In convallis libero nec ante pellentesque, nec commodo velit interdum. Pellentesque volutpat hendrerit magna, nec rhoncus ligula aliquet nec. Proin turpis tellus, ultrices sed euismod nec, accumsan ac diam. Donec nec lectus non leo pretium maximus. Morbi condimentum vitae sapien et congue. Quisque ornare non tellus ut dictum. In hac habitasse platea dictumst. Proin non consequat velit.\\n', '\\n', 'Sed eu semper risus, quis tincidunt dolor. Duis arcu ante, consequat et ornare eu, dapibus malesuada ligula. Morbi cursus pretium nisl, ac blandit neque laoreet ut. Duis eget urna a odio porttitor condimentum at et libero. Vivamus sodales mi orci, sit amet faucibus nibh rutrum sit amet. Cras ac sapien a tortor accumsan mollis eu sed orci. Morbi eu leo ligula. Sed non varius ipsum. Integer eget porta magna. Nunc vitae dolor imperdiet, varius nulla sit amet, condimentum urna.\\n', '\\n', 'Vivamus porta iaculis quam a maximus. Maecenas laoreet posuere ultrices. Vestibulum porttitor semper lorem a ullamcorper. Donec vulputate, ante sit amet commodo tincidunt, odio tellus faucibus ipsum, quis laoreet odio mi sit amet libero. Pellentesque mollis augue ut arcu accumsan, quis scelerisque est tincidunt. In semper magna nec malesuada dictum. Etiam nisi ex, mattis vel metus ac, ultricies fermentum arcu. Vivamus tincidunt, nisi vel scelerisque gravida, ante tortor pharetra nulla, nec suscipit nulla magna et velit. Orci varius natoque penatibus et magnis dis parturient montes, nascetur ridiculus mus. Quisque a urna ut lorem eleifend tempor. Praesent maximus libero quis felis tristique, quis tincidunt risus dictum. Praesent eget facilisis velit. Cras vel eros hendrerit, laoreet augue a, finibus dui. Donec auctor elit et purus maximus ullamcorper. Integer finibus est lectus, et efficitur enim rhoncus id.\\n', '\\n', 'Fusce nisi risus, maximus in lacus eget, mollis facilisis sapien. Curabitur eros purus, lobortis id viverra vel, elementum eu risus. Proin sit amet pellentesque ipsum. Donec odio odio, suscipit quis elit non, ultricies hendrerit nibh. Integer egestas eleifend magna, ut lacinia enim pharetra ac. Maecenas hendrerit varius metus. Ut vulputate tristique neque vitae dictum. Proin maximus, turpis sit amet mollis ultricies, justo orci auctor felis, quis malesuada quam nisl nec tellus. Interdum et malesuada fames ac ante ipsum primis in faucibus. Nullam tempus nisi eu ligula elementum, at vehicula odio eleifend. Duis tempus diam nulla, eget cursus lorem aliquam ac. Donec fermentum quis mi eget malesuada. Donec dictum mauris turpis, eget volutpat nibh ornare et. Donec sed velit quam.\\n', '\\n', 'Mauris lobortis efficitur magna eu finibus. Mauris quis ipsum erat. Orci varius natoque penatibus et magnis dis parturient montes, nascetur ridiculus mus. Mauris at sollicitudin turpis. Etiam at metus sit amet turpis venenatis aliquam. Curabitur nunc turpis, pulvinar vitae fringilla a, accumsan ac diam. In sodales, augue vitae dictum condimentum, ipsum tellus feugiat ipsum, posuere tristique augue ex at magna. In ultricies tellus ullamcorper metus tristique tempor. Donec maximus diam eu dictum convallis. Morbi nulla velit, accumsan non dolor eu, malesuada volutpat lacus. Donec sagittis magna ut enim commodo, nec volutpat ex dapibus. Vestibulum ante ipsum primis in faucibus orci luctus et ultrices posuere cubilia curae;\\n', '\\n', 'Aliquam erat volutpat. Cras sed erat nisl. Integer metus enim, finibus tristique porta vel, dignissim ut sapien. Aenean congue tellus non ex interdum, pulvinar rhoncus nibh tincidunt. Phasellus sed scelerisque mi. Pellentesque hendrerit, nunc non vehicula interdum, quam ante ornare diam, vitae ornare ante nulla vel metus. Phasellus consectetur, tellus eu tempus rhoncus, magna lorem varius elit, commodo fringilla sem leo sit amet lorem. Vivamus viverra porttitor lorem quis venenatis. Aenean vel nulla id nisl pharetra aliquam a pretium nisl. Aenean et tortor eget urna bibendum commodo. Nullam sed gravida tortor. Vivamus dapibus lacus vitae tellus ultrices ullamcorper vel nec eros. Praesent semper lectus rutrum vestibulum sollicitudin.\\n', '\\n', 'Sed fringilla sem ac tempor posuere. In porttitor luctus metus. Curabitur rutrum imperdiet auctor. Mauris posuere quam non tortor mollis fermentum. Proin quis dignissim diam. Curabitur fringilla nunc et molestie pretium. Nunc pretium, diam nec posuere laoreet, urna odio finibus ipsum, nec luctus nibh dolor et justo. In hac habitasse platea dictumst. Etiam nec massa ut lorem elementum volutpat. Cras metus mauris, tristique eget est ut, semper sagittis justo. Morbi et lacinia augue, quis interdum ipsum. Fusce ac sem tellus. Duis tempor cursus urna finibus vehicula. Morbi condimentum risus a mattis sollicitudin.\\n', '\\n', 'Nunc sit amet neque sollicitudin, viverra eros quis, efficitur velit. Curabitur vel nisl est. Vivamus id ipsum euismod, placerat arcu a, elementum dolor. Sed elementum, ipsum id consectetur posuere, quam ligula porta sapien, sit amet pulvinar nibh ex eu erat. Vivamus eget iaculis magna. Aenean bibendum ante ut nisi aliquam mattis. In convallis pulvinar risus vitae tempor. Ut rutrum congue sem. Duis at diam magna.\\n', '\\n', 'In nisl elit, tincidunt at tellus non, malesuada sodales dolor. Fusce ac elit elementum, bibendum erat nec, mattis magna. Suspendisse viverra sit amet nisi ut ullamcorper. Aliquam ut lacinia elit. Pellentesque volutpat blandit purus sit amet interdum. Phasellus lacinia felis finibus, finibus risus sit amet, hendrerit nisl. Vivamus eu diam ut tellus blandit consectetur. Integer sit amet lacus ornare, pellentesque tellus sit amet, venenatis nulla. Curabitur nec ipsum eget purus maximus tempus. Etiam eu feugiat ex. Morbi nunc leo, mollis ut hendrerit a, fermentum vel mi. Pellentesque sit amet enim ut velit condimentum tincidunt.\\n', '\\n', 'Quisque ultrices quis libero non ornare. Nunc dolor risus, lobortis bibendum elit ut, auctor molestie odio. Mauris nec auctor nisl. Praesent sed ex mi. Nulla feugiat dui cursus diam volutpat pulvinar. Aliquam at libero tortor. Aliquam vitae nunc vehicula, consequat mi eget, dignissim massa. Nullam varius purus at ex elementum aliquam. Praesent hendrerit varius felis at varius. Aenean ut scelerisque urna. Etiam placerat tortor eu neque venenatis consectetur. Nunc iaculis libero sit amet nibh eleifend, sit amet efficitur augue semper.\\n', '\\n', 'Suspendisse vel fermentum leo. Quisque aliquam velit diam, et semper leo consectetur et. Nullam ac ullamcorper nulla, sit amet faucibus mi. Quisque vulputate augue vitae facilisis viverra. Vestibulum arcu lorem, maximus ac augue vel, dapibus aliquet mi. Nam lacus risus, interdum finibus nulla sed, placerat auctor felis. Nulla quis efficitur ligula. Vivamus blandit ligula et justo cursus, vitae dignissim neque convallis. Donec metus velit, interdum nec augue et, sodales accumsan sapien.\\n', '\\n', 'Praesent risus leo, imperdiet a lobortis at, fringilla vel ligula. Nullam cursus dapibus ullamcorper. Nam non vulputate eros, in placerat mauris. Proin mi odio, vehicula in tortor vel, dictum congue nulla. Fusce fringilla commodo dignissim. Pellentesque interdum magna et nisi molestie, eget molestie quam egestas. Donec condimentum scelerisque laoreet. In rutrum sem eu arcu elementum, non auctor sapien rutrum. Nullam malesuada massa et ullamcorper efficitur.\\n', '\\n', 'Nunc porta dolor et libero mattis, pharetra egestas mauris suscipit. Maecenas lacinia egestas diam eu facilisis. Pellentesque erat purus, vehicula ut vestibulum a, faucibus sit amet turpis. Cras hendrerit varius neque nec volutpat. Ut suscipit finibus tincidunt. Vivamus in fringilla justo. Curabitur ac ante eget turpis feugiat auctor.\\n', '\\n', 'Proin vulputate, libero non aliquet fringilla, est enim ultrices magna, in aliquam quam justo ac sem. Ut et mauris vitae quam sodales faucibus at auctor sapien. Nulla felis mauris, aliquet eget urna id, molestie tempor mauris. Nulla faucibus magna id volutpat varius. Phasellus sed est sit amet ante molestie consectetur vel nec nisi. Donec facilisis diam at metus scelerisque laoreet ac ac elit. Donec ipsum mi, ornare id sagittis nec, aliquet vel arcu. Cras eu nibh laoreet, tincidunt velit vel, bibendum neque.\\n', '\\n', 'Aenean vel tellus diam. In a imperdiet ante, at mattis ante. Proin vel egestas metus, et molestie leo. Nullam pellentesque rutrum efficitur. Duis dictum tempor luctus. Praesent ultricies vel justo ac sagittis. Nulla a dui a risus scelerisque posuere. Cras molestie nunc libero, sit amet viverra ligula pellentesque vel. Ut posuere vehicula nisl, quis pulvinar metus auctor sed.\\n', '\\n', 'Quisque varius diam sapien, et consectetur risus dictum sit amet. Maecenas sit amet odio porta, volutpat urna eu, volutpat purus. Pellentesque habitant morbi tristique senectus et netus et malesuada fames ac turpis egestas. Vestibulum sed magna tempor, mollis nulla eu, facilisis nulla. Etiam sit amet tempor augue. Quisque arcu odio, ullamcorper quis tincidunt eu, efficitur ut lectus. Morbi vitae ullamcorper nunc, a pharetra tellus. Suspendisse egestas, neque ut ultricies vehicula, nisi nulla blandit elit, in rutrum nisl tortor vitae justo. Etiam eu consectetur ipsum, ac aliquam quam. Quisque non libero dignissim, iaculis ante quis, faucibus nibh. Duis suscipit tortor vitae leo varius hendrerit. Fusce tincidunt gravida lorem, sed porta odio rhoncus a. Pellentesque sollicitudin massa eu ullamcorper iaculis. Nullam pharetra eget nibh vel efficitur.\\n', '\\n', 'Donec molestie vel massa ut eleifend. Sed ac magna ac orci vulputate facilisis. Etiam auctor nulla non mauris volutpat suscipit. Interdum et malesuada fames ac ante ipsum primis in faucibus. Proin pulvinar consequat tellus, eu maximus libero interdum sed. Praesent tincidunt neque lacus. Curabitur maximus facilisis lacus, vel egestas metus eleifend sed. Integer ut massa molestie, vestibulum velit non, elementum ipsum. Vivamus ipsum leo, feugiat sit amet dolor cursus, consectetur egestas nisl. Cras et lorem quis dolor auctor eleifend.\\n', '\\n', 'Etiam vitae nisi eros. Quisque convallis tincidunt maximus. Nunc quis est non nunc vehicula lacinia eget at tortor. Ut a nisi a velit tincidunt tempus quis eget risus. Duis pulvinar sem sed neque porttitor porttitor. Aenean condimentum volutpat mi vel bibendum. Vestibulum vel enim at neque finibus vulputate ut quis magna. Sed congue aliquet dui vel egestas.\\n', '\\n', 'Nullam fringilla massa leo. Sed tempor ornare nunc, a rhoncus ante lacinia sed. Maecenas dignissim laoreet cursus. Nunc eu porttitor est. Nam efficitur convallis metus at pulvinar. Aliquam lorem neque, lacinia ac sem id, mattis commodo turpis. Vivamus neque dolor, suscipit sit amet porttitor sit amet, dapibus id orci. Fusce egestas felis sed metus feugiat, eu tincidunt tellus cursus. Donec elementum aliquet ligula at rutrum.\\n', '\\n', 'Class aptent taciti sociosqu ad litora torquent per conubia nostra, per inceptos himenaeos. In a tellus a quam auctor sollicitudin ut eleifend tortor. Nam rhoncus, dolor sit amet viverra dapibus, nulla magna rhoncus felis, id laoreet augue nunc et quam. Suspendisse suscipit, urna sed consectetur interdum, ipsum arcu efficitur ipsum, non efficitur ante leo eu erat. Nullam a turpis in dui fringilla porta eget at ligula. Mauris facilisis a massa sit amet consequat. Quisque pulvinar cursus ligula, ac pulvinar augue dictum non. Quisque at mollis ligula, in vulputate urna. Aliquam eleifend viverra nunc, in mollis eros. Phasellus hendrerit diam metus, vel pulvinar ex volutpat ut. Suspendisse ante est, luctus eget mauris at, fringilla fermentum dui. Donec eget ornare nulla.\\n', '\\n', 'Morbi ullamcorper arcu et velit fringilla, vel tristique tellus placerat. Cras fringilla consectetur nibh, non egestas orci congue vel. Pellentesque habitant morbi tristique senectus et netus et malesuada fames ac turpis egestas. Pellentesque habitant morbi tristique senectus et netus et malesuada fames ac turpis egestas. Curabitur consequat, orci et auctor maximus, mi erat pretium nisi, eu molestie eros erat id justo. Donec viverra quam fringilla, aliquet nulla sed, tristique mi. Quisque tincidunt consequat nibh, vitae porttitor tortor. Fusce eget est dapibus, dictum tellus at, tincidunt purus. Maecenas malesuada ipsum a magna venenatis, id congue neque dignissim. Class aptent taciti sociosqu ad litora torquent per conubia nostra, per inceptos himenaeos. Class aptent taciti sociosqu ad litora torquent per conubia nostra, per inceptos himenaeos. Suspendisse scelerisque interdum lectus non convallis. Proin non erat lacus. Duis euismod ante eu elit laoreet semper.\\n', '\\n', 'Maecenas eget laoreet metus. Aenean eu augue lorem. Sed aliquam leo vel urna elementum egestas. Fusce sollicitudin, lectus nec elementum rutrum, odio orci bibendum quam, in feugiat ante lacus vitae nibh. Vestibulum pellentesque fermentum fermentum. Nam sed dui eget nisi commodo feugiat et non metus. Cras volutpat nisi vel tincidunt consequat. Vestibulum lacus ante, cursus et faucibus at, porttitor id tellus. Vivamus maximus elementum est, non pulvinar risus vehicula nec. Phasellus bibendum augue at nunc mollis convallis. Nunc non aliquam purus.\\n', '\\n', 'Suspendisse vitae elementum erat, id dignissim libero. Integer vulputate a tellus in porta. Suspendisse dictum a lacus sed fringilla. Vivamus laoreet ultricies sapien nec dictum. Ut congue sodales nisi, eu fermentum mi consectetur nec. Nullam pulvinar nisl ac massa suscipit blandit. Maecenas lacinia orci vel urna pellentesque fringilla. Cras nec orci sit amet massa tincidunt blandit. Suspendisse volutpat tristique nunc a vestibulum. Etiam viverra metus arcu, ac blandit elit aliquam nec.\\n', '\\n', 'Mauris molestie urna et purus porta viverra. Suspendisse aliquam tempus placerat. Nullam pulvinar luctus justo, id sodales leo viverra non. Maecenas ultrices, velit ut convallis sodales, ipsum nulla tempus nunc, nec auctor libero dolor ac elit. In rutrum feugiat consequat. Proin facilisis porttitor augue, sit amet venenatis lorem condimentum eu. Sed pretium velit at tincidunt congue. Etiam ante metus, feugiat vel metus vulputate, venenatis imperdiet neque. Vestibulum ante ipsum primis in faucibus orci luctus et ultrices posuere cubilia curae; Nulla eleifend vulputate tortor, id interdum nisi. Fusce quis varius lectus. Duis vehicula nibh ex, suscipit eleifend odio laoreet non.\\n', '\\n', 'Ut consequat consequat risus. Donec tristique, nibh sed vehicula posuere, mi velit ullamcorper erat, eu malesuada velit erat eget felis. Sed vel enim elit. Donec volutpat elit in massa posuere fermentum. Etiam id nunc finibus, convallis lorem eu, facilisis risus. Suspendisse potenti. Quisque placerat bibendum sem, sed vulputate mauris tempus at.\\n', '\\n', 'Vestibulum luctus erat nisi, in lobortis libero hendrerit sed. Vestibulum vitae viverra purus, et tincidunt lacus. Integer pellentesque ut nunc nec iaculis. Duis pulvinar, lacus eget scelerisque lobortis, purus eros bibendum nisl, pretium gravida nibh ipsum nec arcu. Pellentesque habitant morbi tristique senectus et netus et malesuada fames ac turpis egestas. Nulla facilisi. Donec faucibus dictum suscipit.\\n', '\\n', 'Sed ultricies euismod egestas. Quisque sollicitudin vel elit nec porttitor. Proin laoreet dolor in commodo sollicitudin. Aliquam erat volutpat. Nam luctus quis orci non faucibus. Suspendisse in nisl et velit interdum finibus in et tortor. Cras tempus tincidunt nulla eu rutrum. Duis cursus aliquet turpis, vehicula venenatis felis molestie in.\\n', '\\n', 'Morbi egestas vel nulla at luctus. Vivamus vehicula lorem orci, porttitor lacinia lacus tempor eu. Vestibulum porttitor tortor et mi tristique, eu condimentum tortor lobortis. Phasellus pulvinar sem vitae urna maximus efficitur. Sed a lorem vulputate velit imperdiet consequat at id sem. Aenean mattis vitae magna id rhoncus. Maecenas quis nisl id ipsum elementum imperdiet in a dolor.\\n', '\\n', 'Mauris lacinia ultrices feugiat. Maecenas turpis erat, blandit in nunc id, ultricies pharetra nisl. Cras fringilla ornare ultrices. Praesent id sagittis arcu. Donec finibus sem nec vestibulum tempor. Vestibulum aliquet risus odio, viverra dignissim leo vehicula non. Ut ut mollis dui. Phasellus vel leo justo. Cras sollicitudin elementum nisl ac dictum. Curabitur luctus a tortor et tincidunt. Duis interdum sapien eu elementum aliquet. Nulla facilisi. Pellentesque euismod lectus vel justo pellentesque, eu fringilla arcu porta. Vivamus rhoncus metus quis lorem scelerisque rutrum. Sed non nibh ac leo congue mattis quis ac dolor. Mauris sit amet posuere libero.\\n', '\\n', 'Donec suscipit odio orci, id convallis lorem varius et. Proin vitae malesuada sapien. Proin porta, est id porta congue, ligula sapien maximus enim, ut dignissim tortor urna at lacus. Quisque massa nibh, consequat vitae rutrum non, porta ut eros. Cras ullamcorper gravida semper. Integer hendrerit at sapien non fringilla. Ut urna nisl, sollicitudin sodales vestibulum quis, placerat ut lectus. Nam cursus cursus tortor eget imperdiet. Aliquam tempus dui non auctor consequat. Sed tempor, lectus interdum ultrices commodo, nulla orci pretium arcu, eu volutpat eros odio eu leo.\\n', '\\n', 'Morbi aliquam porta urna, et suscipit diam ornare at. Nullam posuere finibus est, et ultricies mauris commodo id. Vestibulum dignissim ullamcorper elit. Etiam ullamcorper purus augue, convallis egestas ante dapibus vel. Nulla vel elit euismod, faucibus felis vitae, convallis lacus. Sed nec nunc mi. Quisque lectus nisl, tempor sed arcu quis, varius tempor ante. Maecenas sed aliquam purus, vel pulvinar diam. Praesent blandit, odio et facilisis consectetur, metus nibh sodales velit, vel molestie lectus leo ut turpis. Fusce vel dapibus risus. Vivamus tempor lectus non nisi sodales, at interdum purus iaculis. Nulla malesuada quam non volutpat suscipit.\\n', '\\n', 'Curabitur cursus nibh ultrices congue tristique. Phasellus at ante ut odio sagittis luctus sit amet sed quam. Aenean id interdum quam. Morbi commodo condimentum lacus eu faucibus. Integer eget ultrices ligula, ut pulvinar augue. Morbi eu mauris elit. Etiam luctus odio et leo scelerisque aliquam. Pellentesque scelerisque nibh quis libero elementum pellentesque. Suspendisse vel ultrices enim. Sed vitae tempor eros, quis tempor dui. Vestibulum quis nisl pellentesque, placerat lorem id, suscipit odio.\\n', '\\n', 'Vestibulum cursus, ipsum gravida hendrerit rhoncus, dolor ante facilisis libero, vitae aliquet mauris lectus at justo. Curabitur id massa ultrices, sodales dui id, mattis ligula. Aliquam sed facilisis mauris. Cras convallis faucibus vulputate. Ut urna neque, porta nec volutpat non, venenatis vitae velit. Suspendisse euismod, erat vel porttitor gravida, dui mauris viverra leo, vitae ullamcorper metus odio non enim. Phasellus ultricies vulputate rhoncus. Fusce fringilla leo nec arcu mollis bibendum. Vivamus malesuada feugiat sem in auctor. Duis auctor lacinia felis, ut ornare nunc tincidunt sit amet. Duis eros lectus, porttitor volutpat urna ut, faucibus fringilla massa. Aliquam et ultricies enim.\\n', '\\n', 'Phasellus eget molestie enim. Quisque aliquam magna sed libero volutpat fermentum. Ut dapibus ullamcorper nisi at commodo. Pellentesque erat turpis, cursus et posuere luctus, maximus ut ipsum. Nunc nisl urna, maximus vitae justo at, suscipit facilisis erat. Etiam a consequat ligula. Donec eu faucibus nisl, ac dapibus odio. Pellentesque malesuada tincidunt eros at ornare. Nulla eget metus facilisis, sollicitudin odio at, pulvinar justo. Quisque consectetur magna ac tellus bibendum, a ullamcorper mauris euismod. In euismod quam nec eros facilisis ultricies. Maecenas in mi interdum, gravida nisl eget, placerat neque. Fusce vehicula aliquam faucibus. Aenean malesuada risus massa, id dictum dui dignissim a. Aliquam euismod viverra tortor, nec ullamcorper diam rutrum at. In vitae porttitor erat.\\n', '\\n', 'Praesent blandit, augue nec sagittis mollis, eros leo fringilla tellus, quis blandit dui nunc nec velit. Phasellus efficitur elementum orci, ut fermentum eros pretium vitae. Quisque sit amet quam sagittis, suscipit nulla porttitor, pellentesque magna. Nullam at elementum dui, a venenatis tortor. Donec efficitur ornare erat vitae iaculis. Proin a turpis fringilla, dictum mauris ac, interdum massa. Proin vel ultrices purus, in faucibus risus. Quisque rutrum laoreet leo in rutrum. Suspendisse augue nulla, pulvinar feugiat sodales ut, rutrum a turpis. Sed vestibulum ante quis enim tincidunt viverra. Maecenas ligula tellus, pulvinar sed dolor vestibulum, elementum ultricies nibh. Etiam in gravida ligula, ut varius felis.\\n', '\\n', 'Orci varius natoque penatibus et magnis dis parturient montes, nascetur ridiculus mus. Praesent nec laoreet erat. Nunc ullamcorper faucibus varius. Proin eleifend enim ut mi ornare, non elementum nisl accumsan. Cras nec luctus sapien. Vestibulum rutrum nunc eu felis consequat rutrum. Maecenas venenatis efficitur convallis. In rhoncus mi justo, quis ultrices nisl mollis id. Quisque rutrum arcu a quam volutpat, sit amet placerat leo sollicitudin. Orci varius natoque penatibus et magnis dis parturient montes, nascetur ridiculus mus.\\n', '\\n', 'Sed consequat varius metus vel finibus. Pellentesque venenatis sed velit id laoreet. Nunc nec aliquet ante, in porta mi. Phasellus ornare accumsan velit vel volutpat. Donec porta facilisis lacus sit amet egestas. Suspendisse dapibus, dui at euismod ornare, elit risus tincidunt urna, imperdiet gravida quam est at nunc. Sed volutpat porttitor metus, sit amet viverra nisl condimentum vitae. Cras risus justo, vestibulum eget magna non, malesuada pretium nisl. Maecenas nec odio gravida lacus vehicula pharetra. Pellentesque in turpis a mi interdum scelerisque. Maecenas risus nibh, ullamcorper ut erat non, tincidunt porttitor nibh. Nulla facilisi. Cras molestie, sem id commodo accumsan, velit ligula bibendum eros, id rhoncus diam quam a ipsum. Phasellus molestie ante vitae lobortis accumsan. Quisque tincidunt erat sit amet tincidunt imperdiet.\\n', '\\n', 'Pellentesque habitant morbi tristique senectus et netus et malesuada fames ac turpis egestas. Nam convallis fringilla suscipit. Aliquam ultricies nibh nunc, id viverra quam iaculis at. Ut quis urna hendrerit, efficitur dolor vehicula, mattis leo. Aenean consequat sem quis felis maximus, sit amet mollis ante pulvinar. Sed vitae tortor mauris. In ullamcorper tellus in euismod interdum. Phasellus scelerisque ipsum et ipsum dictum, nec consequat eros sagittis. Etiam tristique elementum odio ac euismod. Sed varius volutpat fermentum. Aenean luctus arcu libero, id mollis ante mollis tincidunt.\\n', '\\n', 'Ut placerat, urna sed fringilla commodo, ipsum lectus ultrices urna, vitae laoreet neque lorem vel orci. Morbi sit amet venenatis nibh, et rutrum risus. Mauris convallis tortor neque, vitae vestibulum metus aliquet vitae. Curabitur non nisl ultricies, pharetra turpis vitae, tristique orci. Nunc blandit condimentum mi, in dignissim quam bibendum sed. Maecenas et augue id tellus iaculis convallis et sit amet risus. Fusce a ipsum lorem. Quisque molestie orci vitae mi ornare, ut suscipit risus vulputate. Maecenas nec mollis dolor.\\n', '\\n', 'Proin consequat rutrum nibh ac viverra. Quisque posuere magna dapibus mauris tristique, et finibus ipsum malesuada. Nam euismod sapien nec consequat vulputate. Ut facilisis odio posuere purus blandit, eget luctus dui iaculis. Donec aliquet mollis velit, in aliquam eros commodo in. Nulla est erat, varius non risus vitae, ultricies dictum elit. Nunc mattis quis nibh quis iaculis. Donec fringilla tincidunt nulla et sollicitudin.\\n', '\\n', 'Maecenas dignissim sagittis dui nec pharetra. Phasellus ornare purus ante, ac auctor mauris consectetur at. Nam finibus blandit ligula, vel mollis urna tristique quis. Proin eget ex dapibus turpis bibendum aliquet. Integer id venenatis elit. Cras nunc elit, fringilla quis tortor nec, posuere pretium purus. Donec at felis pretium, maximus eros efficitur, aliquam massa. Integer pharetra ex quis tortor fringilla, eget posuere tortor scelerisque. Phasellus malesuada odio lacus, quis viverra quam pretium vitae. Vestibulum consequat tellus nisl, et bibendum tortor dapibus a. Sed luctus orci in tellus semper, sed semper diam dapibus. Duis ipsum risus, malesuada a magna vel, porta ultrices magna. Proin pretium metus nec erat venenatis, at convallis risus molestie. Phasellus gravida nunc lacus, a laoreet purus venenatis ut. Quisque blandit ipsum id urna posuere, in aliquet dolor accumsan. Integer nec justo vitae mauris malesuada ultricies ac ut eros.\\n', '\\n', 'Vestibulum ante ipsum primis in faucibus orci luctus et ultrices posuere cubilia curae; Donec eget erat eget ipsum dapibus aliquam. Nulla in faucibus massa. Cras at risus libero. Donec eu enim vitae mauris faucibus sodales vel vel ex. Donec lobortis lacus velit, non varius mi pulvinar id. Mauris nisi dui, consectetur a laoreet vel, placerat et mi. Suspendisse at nunc sed lorem malesuada pellentesque sed in diam. Praesent sed hendrerit risus. Fusce ut lorem sem. Duis pretium sem ac elit lobortis interdum. Donec iaculis risus nisi, quis pharetra mauris eleifend sit amet. Nulla congue arcu sit amet mauris fringilla semper. Praesent sit amet tellus nec erat tempus ullamcorper. Suspendisse malesuada odio ut erat mattis hendrerit vitae eu est. Vestibulum a ipsum eget lacus pretium molestie eget sit amet justo.\\n', '\\n', 'Donec venenatis iaculis tortor, et tincidunt dolor congue vitae. Proin commodo sem in nisi venenatis, in ultricies ligula pellentesque. Donec lacinia tincidunt metus, at rhoncus tortor. Sed placerat, lectus vitae mattis elementum, lacus dui dictum nibh, sit amet mattis dolor dolor vitae libero. Integer vitae diam fermentum, malesuada augue vel, sollicitudin magna. Aliquam quis fringilla ante. Nam blandit turpis vitae massa vulputate tincidunt. Sed nibh leo, commodo vel finibus ut, ornare at mauris. Orci varius natoque penatibus et magnis dis parturient montes, nascetur ridiculus mus. Suspendisse molestie lacinia magna, et dignissim lacus. Fusce vitae velit nulla. Fusce egestas tellus sagittis elementum aliquam. Maecenas rutrum efficitur volutpat.\\n', '\\n', 'Praesent non nibh nunc. Ut vel tristique est, sed gravida lorem. Nulla malesuada metus in libero euismod eleifend. Phasellus et faucibus felis. Fusce pellentesque, diam eget viverra tempus, sem elit imperdiet massa, in facilisis mi elit vitae elit. Maecenas pharetra efficitur odio, vel dictum elit venenatis nec. Fusce nec leo eu tortor tincidunt sagittis id et nibh.\\n', '\\n', 'Ut viverra, lorem ut elementum bibendum, lacus eros ultrices justo, nec sollicitudin enim diam ac risus. Pellentesque non viverra purus, sit amet posuere nulla. Fusce ut tempus erat. Ut bibendum metus id justo pharetra, a dignissim tortor blandit. Nullam sagittis ultrices tortor, ut sagittis odio facilisis non. Fusce risus erat, rutrum id odio nec, finibus placerat leo. Nam nunc odio, dignissim eu euismod vitae, euismod vitae mi. Maecenas eu justo vel neque iaculis fringilla. Vestibulum sagittis ex convallis est vestibulum, ut imperdiet nisl molestie. Integer quis pharetra nisi, eu commodo sapien. Nunc eget sapien vel lectus porta eleifend id faucibus tortor.\\n', '\\n', 'Integer magna ligula, tincidunt quis nibh in, sagittis varius urna. Phasellus id elementum odio. Suspendisse id nunc nibh. Donec bibendum et enim ut fermentum. Fusce scelerisque, arcu at mollis viverra, est neque commodo augue, at efficitur ipsum ligula vel magna. Vivamus iaculis, mauris in malesuada malesuada, erat massa suscipit augue, sed imperdiet tortor felis non turpis. Cras pellentesque nec arcu ac porta. Donec odio dolor, venenatis eu interdum vitae, condimentum nec sapien. Fusce vitae efficitur augue. Donec vel condimentum augue. Pellentesque quis nibh elit. Sed consequat porta justo et rutrum. Nunc feugiat lectus eget commodo volutpat. Vivamus eu dolor vitae diam dignissim vestibulum. Phasellus sed pellentesque lacus, consequat lobortis lorem.\\n', '\\n', 'Aenean rhoncus neque porta nisl tristique molestie. Duis pretium risus eget arcu placerat, suscipit sodales justo bibendum. Donec vitae lacinia tellus, quis pretium enim. Aliquam ullamcorper dictum blandit. Sed sed quam at nunc hendrerit laoreet. Quisque porta vel lectus id semper. Nunc gravida, nisi a gravida auctor, nibh leo mattis tellus, vel pharetra lacus arcu nec eros. Aenean sit amet sem nisl.f']\n",
      "Number of a word 'laoreet': 47\n"
     ]
    }
   ],
   "source": [
    "f = open(\"yesterday.txt\", \"r\")\n",
    "yesterday_lyric = ''\n",
    "\n",
    "yesterday_lyrics = f.readlines()\n",
    "print(yesterday_lyrics)\n",
    "\n",
    "if len(yesterday_lyrics) != 0:\n",
    "    for item in yesterday_lyrics:\n",
    "        yesterday_lyric += item + \"\\n\" \n",
    "    n_of_yesterday_lyric = yesterday_lyric.upper().count('LAOREET')\n",
    "    print(f'Number of a word \\'laoreet\\': {n_of_yesterday_lyric}')\n",
    "f.close()"
   ]
  },
  {
   "cell_type": "code",
   "execution_count": null,
   "id": "a78877b8",
   "metadata": {},
   "outputs": [],
   "source": [
    "def type_hint_example(name: str) -> str:\n",
    "    return 1\n",
    "\n",
    "try :\n",
    "    type_hint_example(1)\n",
    "except e:\n",
    "    print(e)\n",
    "\n",
    "# 이거 되는 이유!!! \n",
    "# Python 은 주석이나, 리턴타입 문서화 같은 느낌으로 생각하면 됨. \n",
    "# 에러 핸들링이 필요하면 직접 다른 식으로 구현해야함"
   ]
  },
  {
   "cell_type": "code",
   "execution_count": 47,
   "id": "57c334aa",
   "metadata": {},
   "outputs": [
    {
     "name": "stdout",
     "output_type": "stream",
     "text": [
      "0\n",
      "1\n",
      "2\n",
      "3\n"
     ]
    }
   ],
   "source": [
    "def insert(index: int) -> None:\n",
    "    \"\"\"test~~ 이걸 넣으면 문서 작성이 용이해집니다!\"\"\"\n",
    "    for i in range(0, index):\n",
    "        print(i)\n",
    "    \n",
    "insert(4)"
   ]
  },
  {
   "cell_type": "markdown",
   "id": "0e8b215b",
   "metadata": {},
   "source": [
    "flake8 => 너무 옛날 방식\n",
    "ruff Rust 기반 린터 사용 추천됨"
   ]
  },
  {
   "cell_type": "markdown",
   "id": "31c61f98",
   "metadata": {},
   "source": [
    "# 요구사항 정리 \n",
    "1. 함수 만들기 => 단일 문자열\n",
    "    - analyze_text_advanced(input_string: str) -> dict:\n",
    "    - docstring 으로 함수에 대해, 인자에 대해 설명 작성해보기\n",
    "    - 인자 반환값의 타입 힌트 만들기\n",
    "\n",
    "2. 텍스트 정제, 분석 \n",
    "    - input_string 의 시작, 끝 공백 제거 \n",
    "    - 모든 분석 => 소문자로 변환 \n",
    "    - 텍스트의 총 문자 개수 계산 \n",
    "    - 텍스트의 총 단어 개수를 계산\n",
    "    - 텍스트의 안에서 python 문자열 포함 여부 확인\n",
    "    - 텍스트의 안에서 'a' 문자가 몇번 나타내는 지 여부 확인할 것\n",
    "    - learning 이라는 단어가 처음 나타는 인덱스 파악 => 존재하지 않음 = -1 반환\n",
    "    - 정제된 텍스트의 첫 문자, 마지막 문자를 추출 \n",
    "\n",
    "3. 결과 반환 방식 => 딕셔너리로 저장\n",
    "    - original_length\n",
    "    - cleaned_length\n",
    "    - word_count\n",
    "    - contains_python\n",
    "    - count_of_a\n",
    "    - first_occurrence_of_learning\n",
    "    - first_character\n",
    "    - last_character"
   ]
  },
  {
   "cell_type": "code",
   "execution_count": null,
   "id": "41790cb6",
   "metadata": {},
   "outputs": [
    {
     "name": "stdout",
     "output_type": "stream",
     "text": [
      "/Users/hansolr/workspace/pre-course-naver-ai/pre-course-study/.venv/bin/python3: No module named pip\n"
     ]
    }
   ],
   "source": [
    "# !python3 -m pip install rich # 커맨드 명령 실행 방법!"
   ]
  },
  {
   "cell_type": "code",
   "execution_count": 3,
   "id": "987c57f6",
   "metadata": {},
   "outputs": [
    {
     "name": "stdout",
     "output_type": "stream",
     "text": [
      "{'original_length': 56, 'cleaned_length': 50, 'word_count': 8, 'contains_python': True, 'count_of_a': 3, 'first_occurrence_of_learning': -1, 'first_character': 'h', 'last_character': '.'}\n",
      "{'original_length': 55, 'cleaned_length': 53, 'word_count': 11, 'contains_python': True, 'count_of_a': 5, 'first_occurrence_of_learning': 0, 'first_character': 'l', 'last_character': '!'}\n",
      "{'cleaned_length': 50,\n",
      " 'contains_python': True,\n",
      " 'count_of_a': 3,\n",
      " 'first_character': 'h',\n",
      " 'first_occurrence_of_learning': -1,\n",
      " 'last_character': '.',\n",
      " 'original_length': 56,\n",
      " 'word_count': 8}\n",
      "{'cleaned_length': 53,\n",
      " 'contains_python': True,\n",
      " 'count_of_a': 5,\n",
      " 'first_character': 'l',\n",
      " 'first_occurrence_of_learning': 0,\n",
      " 'last_character': '!',\n",
      " 'original_length': 55,\n",
      " 'word_count': 11}\n"
     ]
    }
   ],
   "source": [
    "import pprint\n",
    "# from rich import print\n",
    "\n",
    "\n",
    "def analyze_text_advanced(input_string: str) -> dict:\n",
    "    \"\"\"이 함수는 입력 받은 스트링을 분석하는 함수 입니다.\n",
    "        Parameters:\n",
    "            input_string (str): 입력 받는 문자열\n",
    "        Returns:\n",
    "            data (dict): 각 분석 요건에 따른 텍스트 분석 값들의 총체\n",
    "    \"\"\"\n",
    "\n",
    "\n",
    "\n",
    "    first_stage = input_string.strip()\n",
    "    # print(f'#1: {first_stage}')\n",
    "\n",
    "    second_stage = first_stage.lower()\n",
    "    # print(f'#2: {second_stage}')\n",
    "\n",
    "    third_stage = second_stage.split()\n",
    "    # print(f'#3: {third_stage}')\n",
    "    \n",
    "    forth_stage = 'python' in second_stage\n",
    "    # print(f'#4: {forth_stage}')\n",
    "\n",
    "    fifth_stage = second_stage.count('a')\n",
    "    # print(f'#5: {fifth_stage}')\n",
    "\n",
    "    sixth_stage = second_stage.find('learning')\n",
    "    # print(f'#6: {sixth_stage}')\n",
    "\n",
    "    # last_point = len(second_stage)\n",
    "    # last_word_point = len(second_stage[last_point - 1])\n",
    "\n",
    "\n",
    "    reuslt_data = dict({\n",
    "        'original_length': len(input_string),\n",
    "        'cleaned_length': len(second_stage),\n",
    "        'word_count': len(third_stage),\n",
    "        'contains_python': forth_stage,\n",
    "        'count_of_a': fifth_stage,\n",
    "        'first_occurrence_of_learning': sixth_stage,\n",
    "        'first_character': second_stage[0][0],\n",
    "        'last_character': second_stage[-1][-1], \n",
    "    })\n",
    "\n",
    "\n",
    "    return reuslt_data\n",
    "\n",
    "example_text_1 = \"   Hello World! This is a Python programming example.   \"\n",
    "example_text_2 = \"  Learning Python is fun. This is a great way to learn!\"\n",
    "\n",
    "print(analyze_text_advanced(example_text_1))\n",
    "print(analyze_text_advanced(example_text_2))\n",
    "\n",
    "pprint.pprint(analyze_text_advanced(example_text_1))\n",
    "pprint.pprint(analyze_text_advanced(example_text_2))\n"
   ]
  }
 ],
 "metadata": {
  "kernelspec": {
   "display_name": "example-001",
   "language": "python",
   "name": "python3"
  },
  "language_info": {
   "codemirror_mode": {
    "name": "ipython",
    "version": 3
   },
   "file_extension": ".py",
   "mimetype": "text/x-python",
   "name": "python",
   "nbconvert_exporter": "python",
   "pygments_lexer": "ipython3",
   "version": "3.9.23"
  }
 },
 "nbformat": 4,
 "nbformat_minor": 5
}
