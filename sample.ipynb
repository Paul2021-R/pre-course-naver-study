{
 "cells": [
  {
   "cell_type": "markdown",
   "id": "4bb32ebe",
   "metadata": {},
   "source": [
    "# 코테용 노트북"
   ]
  },
  {
   "cell_type": "markdown",
   "id": "8153577b",
   "metadata": {},
   "source": [
    "## 문제 설명\n",
    "### 설명\n",
    "\n",
    "### 제한사항\n",
    "- 2 ≤ n ≤ 100\n",
    "- 1 ≤ w ≤ 10\n",
    "- 1 ≤ num ≤ n\n",
    "\n",
    "### 테스트 케이스 구성 안내\n",
    "아래는 테스트 케이스 구성을 나타냅니다. 각 그룹 내의 테스트 케이스를 모두 통과하면 해당 그룹에 할당된 점수를 획득할 수 있습니다.\n",
    "| 그룹 | 총점 | 추가 제한 사항 | \n",
    "|:---:|:---:|:---:|\n",
    "|#1 | 10% | w = 1 | \n",
    "|#2 | 20% | n 은 w의 배수입니다. | \n",
    "|#3 | 70% | 추가 제한사항은 없음 |\n",
    "\n",
    "### 입출력 예\n",
    "\n",
    "### 입출력 예 설명\n"
   ]
  },
  {
   "cell_type": "markdown",
   "id": "d659cb9e",
   "metadata": {},
   "source": [
    "### 코드 분석\n",
    "\n",
    "#### 로직 정리 \n"
   ]
  },
  {
   "cell_type": "markdown",
   "id": "62fba08d",
   "metadata": {},
   "source": [
    "### import "
   ]
  },
  {
   "cell_type": "code",
   "execution_count": 124,
   "id": "23ce31cd",
   "metadata": {},
   "outputs": [],
   "source": [
    "import time\n",
    "from typing import Any\n",
    "import pprint"
   ]
  },
  {
   "cell_type": "markdown",
   "id": "bcbcacab",
   "metadata": {},
   "source": [
    "### 코드"
   ]
  },
  {
   "cell_type": "code",
   "execution_count": 125,
   "id": "efdf80a1",
   "metadata": {},
   "outputs": [],
   "source": [
    "def solution(n, w, num):\n",
    "    # 최초 설정\n",
    "    total_height = int(n / w)\n",
    "\n",
    "    if total_height * w < n:\n",
    "        total_height = total_height + 1\n",
    "\n",
    "    # 시뮬레이션을 위한 박스 설정\n",
    "    box_pos = [[0 for _ in range(w)] for _ in range(total_height)]\n",
    "\n",
    "    # 층고에 따른 박스 번호 \n",
    "    delimiter_value = 1\n",
    "    # 타겟이 되는 박스 위치 측정을 위한 height, width \n",
    "    target_height = 1\n",
    "    target_width = 0\n",
    "\n",
    "    # 주요 시뮬레이션(박스 적재 및 조건에 맞는 위치 발견 및 세부 설정\n",
    "    for index in range(total_height):    \n",
    "        for x in range(w):\n",
    "            box_pos[index][x] = delimiter_value + x\n",
    "            # 찾을 박스 위치 일 때 할 일\n",
    "            if box_pos[index][x] == num:\n",
    "                target_height = index\n",
    "                if (index - 1) % 2 == 0:\n",
    "                    target_width = w - 1 - x\n",
    "                else: \n",
    "                    target_width = x \n",
    "            # 마지막 박스까지 마무리 시 루프 강제 종료\n",
    "            if box_pos[index][x] == n:\n",
    "                break\n",
    "        delimiter_value += w\n",
    "\n",
    "        # 배열을 뒤집어야 하는 경우 탐색\n",
    "        if (index - 1) % 2 == 0:\n",
    "            box_pos[index].reverse()\n",
    "\n",
    "\n",
    "    answer = 0\n",
    "    for next_height in range(target_height + 1, total_height):\n",
    "        # 박스가 좌표상 존재하면 \n",
    "        if box_pos[next_height][target_width] != 0:\n",
    "            answer += 1\n",
    "        else :\n",
    "            break\n",
    "    \n",
    "    return answer + 1"
   ]
  },
  {
   "cell_type": "markdown",
   "id": "6b3d61ef",
   "metadata": {},
   "source": [
    "### 정답"
   ]
  },
  {
   "cell_type": "code",
   "execution_count": 127,
   "id": "8611440a",
   "metadata": {},
   "outputs": [
    {
     "name": "stdout",
     "output_type": "stream",
     "text": [
      "\n",
      "==================================================\n",
      "🎉 최종 실행 결과 🎉\n",
      "--------------------------------------------------\n",
      "  📋 결과 (값): 17\n",
      "\n",
      "  ⏱️  실행 시간: 0.000027초\n",
      "==================================================\n"
     ]
    }
   ],
   "source": [
    "# ===============================================================\n",
    "# [ 실행 및 결과 출력 영역 ]\n",
    "# - 이 코드는 수정할 필요가 없습니다.\n",
    "# ===============================================================\n",
    "def main():\n",
    "    \"\"\"solution 함수를 실행하고 결과와 성능을 예쁘게 출력합니다.\"\"\"\n",
    "    \n",
    "    # 1. 실행 시간 측정 시작\n",
    "    start_time = time.monotonic()\n",
    "    \n",
    "    # 2. solution 함수 호출하여 결과 받기\n",
    "    # result = solution(100, 6, 3)\n",
    "    result = solution2(100, 6, 3)\n",
    "    # result = solution(13, 3, 6)\n",
    "    \n",
    "    # 3. 실행 시간 측정 종료 및 계산\n",
    "    end_time = time.monotonic()\n",
    "    duration = end_time - start_time\n",
    "    \n",
    "    # 4. 결과 및 성능 출력\n",
    "    print(\"\\n\" + \"=\"*50)\n",
    "    print(\"🎉 최종 실행 결과 🎉\")\n",
    "    print(\"-\"*50)\n",
    "    \n",
    "    # 결과 값의 유형에 따라 예쁘게 출력\n",
    "    if isinstance(result, (list, dict, set, tuple)):\n",
    "        print(\"  📋 결과 (객체):\")\n",
    "        print(\"  \", end='')\n",
    "        pprint.pprint(result)\n",
    "    else:\n",
    "        print(f\"  📋 결과 (값): {result}\")\n",
    "        \n",
    "    print(f\"\\n  ⏱️  실행 시간: {duration:.6f}초\")\n",
    "    print(\"=\"*50)\n",
    "\n",
    "# 이 코드가 노트북에서 직접 실행되었을 때만 main() 함수를 호출합니다.\n",
    "if __name__ == \"__main__\":\n",
    "    main()"
   ]
  }
 ],
 "metadata": {
  "kernelspec": {
   "display_name": "example-001",
   "language": "python",
   "name": "python3"
  },
  "language_info": {
   "codemirror_mode": {
    "name": "ipython",
    "version": 3
   },
   "file_extension": ".py",
   "mimetype": "text/x-python",
   "name": "python",
   "nbconvert_exporter": "python",
   "pygments_lexer": "ipython3",
   "version": "3.9.23"
  }
 },
 "nbformat": 4,
 "nbformat_minor": 5
}
