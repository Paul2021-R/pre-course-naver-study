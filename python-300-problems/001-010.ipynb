{
 "cells": [
  {
   "cell_type": "markdown",
   "id": "b11bd6e6",
   "metadata": {},
   "source": [
    "### 001 print 기초\n",
    "화면에 `Hello World` 문자열을 출력하세요."
   ]
  },
  {
   "cell_type": "code",
   "execution_count": 1,
   "id": "cf137731",
   "metadata": {},
   "outputs": [
    {
     "name": "stdout",
     "output_type": "stream",
     "text": [
      "Hello World\n"
     ]
    }
   ],
   "source": [
    "print('Hello World')"
   ]
  },
  {
   "cell_type": "markdown",
   "id": "0316684d",
   "metadata": {},
   "source": [
    "### 002 print 기초\n",
    "화면에 `Mary's cosmetics`을 출력하세요. (중간에 '가 있음에 주의하세요)"
   ]
  },
  {
   "cell_type": "code",
   "execution_count": 3,
   "id": "a195a8b2",
   "metadata": {},
   "outputs": [
    {
     "name": "stdout",
     "output_type": "stream",
     "text": [
      "Mary's cosmetics\n"
     ]
    }
   ],
   "source": [
    "print('Mary\\'s cosmetics') # \\ 를 넣어서 단순 아스키로 수정 출력할 것"
   ]
  },
  {
   "cell_type": "markdown",
   "id": "b5c8631d",
   "metadata": {},
   "source": [
    "### 003 print \n",
    "화면에 아래 문장을 출력하세요. (중간에 \"가 있음에 주의하세요.)\n",
    "```plain\n",
    "신씨가 소리질렀다. \"도둑이야\".\n",
    "```"
   ]
  },
  {
   "cell_type": "code",
   "execution_count": 4,
   "id": "a907ce18",
   "metadata": {},
   "outputs": [
    {
     "name": "stdout",
     "output_type": "stream",
     "text": [
      "신씨가 소리질렀다. \"도둑이야\".\n"
     ]
    }
   ],
   "source": [
    "print('신씨가 소리질렀다. \\\"도둑이야\\\".')"
   ]
  },
  {
   "cell_type": "code",
   "execution_count": 5,
   "id": "b2bd4f33",
   "metadata": {},
   "outputs": [
    {
     "name": "stdout",
     "output_type": "stream",
     "text": [
      "신씨가 소리질렀다. \"도둑이야\".\n"
     ]
    }
   ],
   "source": [
    "print(\"\"\"신씨가 소리질렀다. \"도둑이야\".\"\"\")"
   ]
  },
  {
   "cell_type": "markdown",
   "id": "6cd14c50",
   "metadata": {},
   "source": [
    "### 004 print 기초\n",
    "화면에 `C:\\Windows` 를 출력하세요."
   ]
  },
  {
   "cell_type": "code",
   "execution_count": 6,
   "id": "bf20d8b5",
   "metadata": {},
   "outputs": [
    {
     "name": "stdout",
     "output_type": "stream",
     "text": [
      "C:\\Windows\n"
     ]
    }
   ],
   "source": [
    "print(\"\"\"C:\\Windows\"\"\")"
   ]
  },
  {
   "cell_type": "code",
   "execution_count": 7,
   "id": "2fd08a77",
   "metadata": {},
   "outputs": [
    {
     "name": "stdout",
     "output_type": "stream",
     "text": [
      "C:\\Windows\n"
     ]
    }
   ],
   "source": [
    "print('C:\\\\Windows')"
   ]
  },
  {
   "cell_type": "markdown",
   "id": "15f15c4c",
   "metadata": {},
   "source": [
    "### 005 print 탭과 줄바꿈\n",
    "다음 코드를 실행해보고 \\t 와 \\n 의 역할을 설명해보세요. "
   ]
  },
  {
   "cell_type": "code",
   "execution_count": 14,
   "id": "69cb841d",
   "metadata": {},
   "outputs": [
    {
     "name": "stdout",
     "output_type": "stream",
     "text": [
      "안녕하세요.\n",
      "만나서\t\t반갑습니다.\n"
     ]
    }
   ],
   "source": [
    "print(\"\"\"안녕하세요.\\n만나서\\t\\t반갑습니다.\"\"\")"
   ]
  },
  {
   "cell_type": "code",
   "execution_count": null,
   "id": "9ee81234",
   "metadata": {},
   "outputs": [],
   "source": [
    "print(\"\"\"안녕하세요.\n",
    "      만나서        반갑습니다.\"\"\")     # alt + 엔터는 현재 셀 실행 후 새 셀 추가임.\n",
    "                                    # 그냥 줄바꿈을 할 거면, 엔터 사용할 것"
   ]
  },
  {
   "cell_type": "code",
   "execution_count": 12,
   "id": "1572b4bd",
   "metadata": {},
   "outputs": [
    {
     "name": "stdout",
     "output_type": "stream",
     "text": [
      "안녕하세요.\n",
      "만나서\t\t반갑습니다.\n"
     ]
    }
   ],
   "source": [
    "print('안녕하세요.\\n만나서\\t\\t반갑습니다.')"
   ]
  },
  {
   "cell_type": "markdown",
   "id": "906b51d7",
   "metadata": {},
   "source": [
    "### 006 print 여러 데이터 출력\n",
    "print 함수에 두 개의 단어를 입력한 예제입니다. 아래 코드의 출력 결과를 예상해봅시다.\n",
    "\n",
    "`print (\"오늘은\", \"일요일\")`"
   ]
  },
  {
   "cell_type": "code",
   "execution_count": null,
   "id": "e3270f53",
   "metadata": {},
   "outputs": [
    {
     "name": "stdout",
     "output_type": "stream",
     "text": [
      "오늘은 일요일\n",
      "오늘은 / 일요일\n",
      "오늘은 / 일요일\n"
     ]
    }
   ],
   "source": [
    "print('오늘은', '일요일')\n",
    "print('오늘은', '일요일', sep=\" / \") # 구분자 추가를 하면 구분자 기준으로 나열됨\n",
    "print(*[\"오늘은\", \"일요일\"], sep=\" / \") # unpacking 을 활용한 동일 표현"
   ]
  },
  {
   "cell_type": "markdown",
   "id": "04ddda06",
   "metadata": {},
   "source": [
    "### 007 print 기초\n",
    "print() 함수를 사용하여 다음과 같이 출력하세요.\n",
    "\n",
    "`naver;kakao;sk;samsung`"
   ]
  },
  {
   "cell_type": "code",
   "execution_count": 19,
   "id": "9a6ba05a",
   "metadata": {},
   "outputs": [
    {
     "name": "stdout",
     "output_type": "stream",
     "text": [
      "naver;kakao;sk;samsung\n",
      "naver;kakao;sk;samsung\n"
     ]
    }
   ],
   "source": [
    "print('naver', 'kakao', 'sk','samsung', sep=';')\n",
    "\n",
    "target = ['naver', 'kakao', 'sk','samsung']\n",
    "print(*target, sep=';')"
   ]
  },
  {
   "cell_type": "markdown",
   "id": "7a30e7fa",
   "metadata": {},
   "source": [
    "### 008 print 기초\n",
    "print() 함수를 사용하여 다음과 같이 출력하세요\n",
    "\n",
    "`naver/kakao/sk/samsung`"
   ]
  },
  {
   "cell_type": "code",
   "execution_count": 20,
   "id": "698bcd34",
   "metadata": {},
   "outputs": [
    {
     "name": "stdout",
     "output_type": "stream",
     "text": [
      "naver/kakao/sk/samsung\n"
     ]
    }
   ],
   "source": [
    "print(*target, sep='/')"
   ]
  },
  {
   "cell_type": "markdown",
   "id": "3c295d9f",
   "metadata": {},
   "source": [
    "### 009 print 줄 바꿈\n",
    "다음 코드를 수정하여 줄바꿈이 없이 출력하세요. (힌트: end='') print 함수는 두 번 사용합니다. \n",
    "세미콜론 (;)은 한줄에 여러 개의 명령을 작성하기 위해 사용합니다.\n",
    "\n",
    "`print(\"first\");print(\"second\")`"
   ]
  },
  {
   "cell_type": "code",
   "execution_count": 22,
   "id": "df8cc94d",
   "metadata": {},
   "outputs": [
    {
     "name": "stdout",
     "output_type": "stream",
     "text": [
      "firstsecond\n"
     ]
    }
   ],
   "source": [
    "print(\"first\", end=''); print(\"second\")"
   ]
  },
  {
   "cell_type": "markdown",
   "id": "4eaeaa1c",
   "metadata": {},
   "source": [
    "### 010 연산 결과 출력\n",
    "5/3의 결과를 화면에 출력하세요."
   ]
  },
  {
   "cell_type": "code",
   "execution_count": 23,
   "id": "73d17637",
   "metadata": {},
   "outputs": [
    {
     "name": "stdout",
     "output_type": "stream",
     "text": [
      "1.6666666666666667\n",
      "1.6666666666666667\n"
     ]
    }
   ],
   "source": [
    "print(5/3)\n",
    "print(f'{5/3}')"
   ]
  }
 ],
 "metadata": {
  "kernelspec": {
   "display_name": "example-001",
   "language": "python",
   "name": "python3"
  },
  "language_info": {
   "codemirror_mode": {
    "name": "ipython",
    "version": 3
   },
   "file_extension": ".py",
   "mimetype": "text/x-python",
   "name": "python",
   "nbconvert_exporter": "python",
   "pygments_lexer": "ipython3",
   "version": "3.9.23"
  }
 },
 "nbformat": 4,
 "nbformat_minor": 5
}
