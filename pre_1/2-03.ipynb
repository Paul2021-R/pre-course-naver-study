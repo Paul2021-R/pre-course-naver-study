{
 "cells": [
  {
   "cell_type": "markdown",
   "id": "36b3ab77",
   "metadata": {},
   "source": [
    "# 2-03 문제 풀어보기 (수도 코드)\n",
    "- 사용자 입력 input\n",
    "- 95 ~ 60점 미만까지를 그레이드로 만들기 \n",
    "- 사용자가 점수 대신 -1 입력시 종료 시켜야함 \n",
    "- 에러 핸들링(0점 미만, 100점 초과)\n",
    "- 이 문제는 유효한 정수 점수만 입력 된다고 생각할 것"
   ]
  },
  {
   "cell_type": "code",
   "execution_count": null,
   "id": "5b89712a",
   "metadata": {},
   "outputs": [
    {
     "name": "stdout",
     "output_type": "stream",
     "text": [
      "점수를 입력하세요(-1 을 입력하면 종료 됩니다.): \n",
      "당신의 등급은 F(50점) 입니다.\n",
      "당신의 등급은 F(55점) 입니다.\n",
      "당신의 등급은 B+(88점) 입니다.\n",
      "당신의 등급은 A+(96점) 입니다.\n",
      "프로그램을 종료 합니다.\n"
     ]
    }
   ],
   "source": [
    "def isAcceptable(numberString):\n",
    "    try:\n",
    "        result = int(numberString)\n",
    "        acceptable = True\n",
    "\n",
    "        if result < -1 or result > 100:\n",
    "            acceptable = False\n",
    "            print('유효하지 않은 점수입니다. 0점에서 100점 사이의 점수를 입력해주세요.')\n",
    "        return acceptable, result \n",
    "    except:\n",
    "        acceptable = False\n",
    "        return  acceptable, -1 \n",
    "\n",
    "print ('점수를 입력하세요(-1 을 입력하면 종료 됩니다.): ')\n",
    "while True :\n",
    "    score_str = input()\n",
    "    acceptable, score_int = isAcceptable(score_str)\n",
    "\n",
    "    if score_int == -1 :\n",
    "        break\n",
    "\n",
    "    if not acceptable:\n",
    "        continue\n",
    "\n",
    "    # conditions \n",
    "    grade = 'Z'\n",
    "    if score_int < 60:\n",
    "        grade = 'F'\n",
    "    elif score_int < 70:\n",
    "        grade = 'D'\n",
    "    elif score_int < 80:\n",
    "        grade = 'C'\n",
    "    elif score_int < 85:\n",
    "        grade = 'B'\n",
    "    elif score_int < 90:\n",
    "        grade = 'B+'\n",
    "    elif score_int < 95:\n",
    "        grade = 'A'\n",
    "    else :\n",
    "        grade = 'A+'\n",
    "\n",
    "    print (f'당신의 등급은 {grade}({score_int}점) 입니다.')\n",
    "\n",
    "    \n",
    "print ('프로그램을 종료 합니다.')"
   ]
  }
 ],
 "metadata": {
  "kernelspec": {
   "display_name": "example-001",
   "language": "python",
   "name": "python3"
  },
  "language_info": {
   "codemirror_mode": {
    "name": "ipython",
    "version": 3
   },
   "file_extension": ".py",
   "mimetype": "text/x-python",
   "name": "python",
   "nbconvert_exporter": "python",
   "pygments_lexer": "ipython3",
   "version": "3.9.23"
  }
 },
 "nbformat": 4,
 "nbformat_minor": 5
}
