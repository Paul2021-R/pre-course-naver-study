{
 "cells": [
  {
   "cell_type": "markdown",
   "id": "ba97d19f",
   "metadata": {},
   "source": [
    "### **문제 1: 수학 함수 구현 및 계산**\n",
    "\n",
    "`2-02.pdf`에서 제시된 수학 함수 `f(x) = 2x + 7`와 `g(x) = x^2`를 파이썬 함수로 구현하세요.\n",
    "변수 `x`의 값이 2일 때, 다음 수식의 최종 결과 값을 계산하여 출력하는 코드를 작성하세요: `f(x) + g(x) + f(g(x)) + g(f(x))`"
   ]
  },
  {
   "cell_type": "code",
   "execution_count": 6,
   "id": "d44be3e6",
   "metadata": {},
   "outputs": [
    {
     "name": "stdout",
     "output_type": "stream",
     "text": [
      "151\n"
     ]
    }
   ],
   "source": [
    "def function_1(x):\n",
    "    return 2 * x + 7\n",
    "\n",
    "def function_2(x):\n",
    "    return x ** 2\n",
    "\n",
    "def funxtion_3(x):\n",
    "    f_x = function_1\n",
    "    g_x = function_2\n",
    "    return f_x(x) + g_x(x) + f_x(g_x(x)) + g_x(f_x(x))\n",
    "\n",
    "print(funxtion_3(2))"
   ]
  },
  {
   "cell_type": "markdown",
   "id": "d2a4243d",
   "metadata": {},
   "source": [
    "### **문제 2: 다양한 형태의 파이썬 함수 구현 및 호출**\n",
    "\n",
    "`2-02.pdf`에서 설명하는 함수의 개요와 선언 문법을 바탕으로, 다음 세 가지 형태의 함수를 각각 구현하고 호출하는 코드를 작성하세요.\n",
    "\n",
    "*   **매개변수 없이 반환 값만 있는 함수:**\n",
    "    *   `get_greeting_message()` 함수를 정의하고, 이 함수가 호출될 때 `\"안녕하세요, 파이썬 세계에 오신 것을 환영합니다!\"`라는 문자열을 반환하도록 하세요.\n",
    "    *   함수를 호출하고 반환된 메시지를 콘솔에 출력하세요.\n",
    "*   **매개변수는 있지만 반환 값이 없는 함수:**\n",
    "    *   두 개의 정수 `num1`과 `num2`를 매개변수로 받아 그 합을 콘솔에 `\"[num1]과 [num2]의 합은 [합계]입니다.\"` 형태로 출력하는 `print_sum(num1, num2)` 함수를 정의하세요.\n",
    "    *   예시 값(예: 10과 25)을 사용하여 이 함수를 호출하세요.\n",
    "*   **매개변수도 있고 반환 값도 있는 함수:**\n",
    "    *   사각형의 가로 `width`와 세로 `height`를 매개변수로 받아 해당 사각형의 넓이를 계산하여 반환하는 `calculate_rectangle_area(width, height)` 함수를 정의하세요.\n",
    "    *   예시 값(예: 가로 15, 세로 7)을 사용하여 이 함수를 호출하고, 반환된 넓이를 콘솔에 출력하세요."
   ]
  },
  {
   "cell_type": "code",
   "execution_count": null,
   "id": "df374142",
   "metadata": {},
   "outputs": [],
   "source": [
    "def get_greeting_message():\n",
    "    return \"안녕하세요, 파이썬 세계에 오신 것을 환영합니다!\"\n",
    "\n",
    "def print_sum(num1, num2):\n",
    "    num3 = num1 + num2\n",
    "    print(f'[{num1}]과 [{num2}]의 합은 [{num3}]입니다.')\n",
    "    return\n",
    "\n",
    "def calculate_rectangle_area(width, height):\n",
    "    return width * height\n",
    "\n",
    "print(f'#1 - {get_greeting_message()}')\n",
    "print(f'#2 - {print_sum(1, 2)}')\n",
    "print(f'#3 - {calculate_rectangle_area(15, 7)}')\n"
   ]
  },
  {
   "cell_type": "markdown",
   "id": "93f70c88",
   "metadata": {},
   "source": [
    "### **문제 3: 사용자 입력 처리 및 기본 출력 포맷팅**\n",
    "\n",
    "`2-02.pdf`에서 설명하는 `input()` 함수를 사용하여 사용자로부터 정보를 입력받고, `print()` 함수 및 기본 포맷팅을 사용하여 출력하는 코드를 작성하세요.\n",
    "\n",
    "1.  사용자에게 자신의 **이름**을 입력하도록 요청하고, 입력받은 이름을 변수에 저장하세요.\n",
    "2.  이어서 사용자에게 **좋아하는 숫자**를 입력하도록 요청하고, 이 숫자를 실수(float) 형태로 변환하여 변수에 저장하세요.\n",
    "3.  최종적으로, 입력받은 이름과 숫자를 사용하여 다음 형식으로 메시지를 콘솔에 출력하세요: `\"안녕하세요, [이름]님! 당신이 좋아하는 숫자는 [좋아하는 숫자]입니다.\"` 이때, 좋아하는 숫자는 소수점 첫째 자리까지만 표시되도록 포맷팅하세요."
   ]
  },
  {
   "cell_type": "code",
   "execution_count": 9,
   "id": "aab92c62",
   "metadata": {},
   "outputs": [
    {
     "name": "stdout",
     "output_type": "stream",
     "text": [
      "당신의 이름을 입력하여 주십시오: \n",
      "당신이 좋아하는 숫자를 입력하여 주세요: \n",
      "안녕하세요, 한솔님! 당신이 좋아하는 숫자는 3입니다.\n"
     ]
    }
   ],
   "source": [
    "# print('Enter Your name: ')\n",
    "# somebody = input()\n",
    "# print(f'Hi! {somebody}, How are you today?')\n",
    "\n",
    "print('당신의 이름을 입력하여 주십시오: ')\n",
    "targetName = input()\n",
    "\n",
    "print('당신이 좋아하는 숫자를 입력하여 주세요: ')\n",
    "favoriteNumber = input() \n",
    "\n",
    "print(f'안녕하세요, {targetName}님! 당신이 좋아하는 숫자는 {favoriteNumber}입니다.')"
   ]
  },
  {
   "cell_type": "markdown",
   "id": "01c157e0",
   "metadata": {},
   "source": [
    "### **문제 4: 다양한 문자열 출력 포맷팅 기법 활용**\n",
    "\n",
    "`2-02.pdf`에서 다루는 `%`, `str.format()`, `f-string` 세 가지 문자열 포맷팅 기법을 모두 사용하여 다음 변수들을 주어진 요구사항에 맞게 출력하는 코드를 작성하세요.\n",
    "\n",
    "```python\n",
    "product_name = \"Keyboard\"\n",
    "price = 79.99\n",
    "stock = 150\n",
    "```\n",
    "\n",
    "*   **`%-format` 사용:**\n",
    "    *   `\"제품명: Keyboard, 가격: 79.990, 재고: 150개\"` 형식으로 출력하되, 제품명은 최소 12칸을 확보하여 오른쪽 정렬하고, 가격은 소수점 셋째 자리까지 표시되도록 하세요.\n",
    "*   **`str.format()` 함수 사용:**\n",
    "    *   `\"오늘의 특가! Keyboard는 개당 79.99달러입니다.\"` 형식으로 출력하되, 제품명은 15칸을 확보하여 가운데 정렬하고, 가격은 소수점 둘째 자리까지 표시되도록 하세요.\n",
    "*   **`f-string` 사용:**\n",
    "    *   `\"현재 재고는 150개이며, 총 가치는 11998.50입니다.\"` 형식으로 출력하되, 재고는 5칸을 확보하여 왼쪽 정렬하고, 총 가치(price * stock)는 소수점 둘째 자리까지 표시되도록 하세요."
   ]
  },
  {
   "cell_type": "code",
   "execution_count": 32,
   "id": "b0562345",
   "metadata": {},
   "outputs": [
    {
     "name": "stdout",
     "output_type": "stream",
     "text": [
      "#1     keyboard 79.99                 150\n",
      "#2     keyboard 79.99            150     \n",
      "#3     keyboard 79.99            150     \n",
      "#4 OOOOkeyboard 79.99******* ++++150+++++\n"
     ]
    }
   ],
   "source": [
    "print(\"#1 %12s %-12.2f %12d\" % (\"keyboard\",  79.990, 150))\n",
    "print(\"#2 {:>12} {:<12.2f} {:^12}\".format(\"keyboard\", 79.990, 150))\n",
    "value = \"keyboard\"\n",
    "value2 = 79.990\n",
    "value3 = 150\n",
    "print(f'#3 {value:>12} {value2:<12.2f} {value3:^12}')\n",
    "print(f'#4 {value:O>12} {value2:*<12.2f} {value3:+^12}')"
   ]
  },
  {
   "cell_type": "markdown",
   "id": "d6a32070",
   "metadata": {},
   "source": [
    "### **문제 5: 섭씨-화씨 변환기 프로그램 구현**\n",
    "\n",
    "`2-02.pdf`에 제시된 '화씨 변환기 Lab'을 구현하는 파이썬 프로그램을 작성하세요.\n",
    "\n",
    "1.  프로그램은 사용자로부터 섭씨 온도를 입력받아야 합니다.\n",
    "2.  입력받은 섭씨 온도를 화씨 온도로 변환해야 합니다. 변환 공식은 `((9/5) * 섭씨온도) + 32` 입니다.\n",
    "3.  다음 예시와 **정확히 동일한 형식**으로 입출력 메시지를 콘솔에 출력해야 합니다.\n",
    "    ```\n",
    "    본 프로그램은 섭씨를 화씨로 변환해주는 프로그램입니다\n",
    "    변환하고 싶은 섭씨 온도를 입력해 주세요: 32.2\n",
    "    섭씨온도 : 32.2\n",
    "    화씨온도 : 89.96\n",
    "    ```\n",
    "    *   사용자 입력 `32.2`는 실수형으로 처리되어야 합니다.\n",
    "    *   화씨 온도는 소수점 둘째 자리까지 표시되도록 포맷팅해야 합니다.\n"
   ]
  },
  {
   "cell_type": "code",
   "execution_count": 37,
   "id": "354c2950",
   "metadata": {},
   "outputs": [
    {
     "name": "stdout",
     "output_type": "stream",
     "text": [
      "89.96000000000001\n",
      "     89.96\n"
     ]
    }
   ],
   "source": [
    "def convertToFahrenheit(celcius):\n",
    "    fahrenheit = float(celcius * 1.8) + 32\n",
    "    return fahrenheit\n",
    "\n",
    "result = convertToFahrenheit(32.2)\n",
    "print(f'{result}')\n",
    "print(f'{result:>10.2f}')"
   ]
  }
 ],
 "metadata": {
  "kernelspec": {
   "display_name": "example-001",
   "language": "python",
   "name": "python3"
  },
  "language_info": {
   "codemirror_mode": {
    "name": "ipython",
    "version": 3
   },
   "file_extension": ".py",
   "mimetype": "text/x-python",
   "name": "python",
   "nbconvert_exporter": "python",
   "pygments_lexer": "ipython3",
   "version": "3.9.23"
  }
 },
 "nbformat": 4,
 "nbformat_minor": 5
}
