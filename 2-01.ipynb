{
 "cells": [
  {
   "cell_type": "markdown",
   "id": "b6db748e",
   "metadata": {},
   "source": [
    "1.  **문제:** 다음 변환 작업을 코드로 작성하고 각 단계별 변수의 값과 타입을 출력하세요.\n",
    "    *   문자열 '76.3'을 `a`에 할당하고 이를 실수형으로 변환하여 `b`에 할당합니다.\n",
    "    *   `a`와 `b`의 값을 각각 출력하세요.\n",
    "    *   `a`와 `b`를 더하려고 시도할 때 발생하는 오류를 확인하고, 이 오류를 해결하기 위해 `a`와 `b`의 타입을 어떻게 맞출 수 있는지 코드로 보여주세요. 그런 다음 두 변수를 더한 값을 출력하세요.\n",
    "    *   두 실수형 변수를 문자열로 변환한 후 연결(concatenate)하는 코드를 작성하고 결과를 출력하세요."
   ]
  },
  {
   "cell_type": "code",
   "execution_count": null,
   "id": "683a03c5",
   "metadata": {},
   "outputs": [
    {
     "name": "stdout",
     "output_type": "stream",
     "text": [
      "76.3 76.3\n",
      "76.376.3\n"
     ]
    }
   ],
   "source": [
    "a = '76.3'\n",
    "b = float(a)\n",
    "\n",
    "print(a, b)"
   ]
  },
  {
   "cell_type": "code",
   "execution_count": 10,
   "id": "198a86c0",
   "metadata": {},
   "outputs": [
    {
     "name": "stdout",
     "output_type": "stream",
     "text": [
      "76.376.3\n"
     ]
    }
   ],
   "source": [
    "b_1 = str(b)\n",
    "print(a + b_1)"
   ]
  },
  {
   "cell_type": "code",
   "execution_count": 12,
   "id": "bc9a84b7",
   "metadata": {},
   "outputs": [
    {
     "name": "stdout",
     "output_type": "stream",
     "text": [
      "152.6\n"
     ]
    }
   ],
   "source": [
    "a_1 = float(a)\n",
    "print (a_1 + b)"
   ]
  },
  {
   "cell_type": "code",
   "execution_count": 13,
   "id": "a6a20fcb",
   "metadata": {},
   "outputs": [
    {
     "name": "stdout",
     "output_type": "stream",
     "text": [
      "76.376.3\n"
     ]
    }
   ],
   "source": [
    "c = str(a_1)\n",
    "d = str(b)\n",
    "e = c + d\n",
    "print (e)"
   ]
  },
  {
   "cell_type": "markdown",
   "id": "5c90b31e",
   "metadata": {},
   "source": [
    "2.  **문제:** 주어진 연산자를 사용하여 다음을 계산하는 코드를 작성하고 결과를 출력하세요.\n",
    "    *   3의 5제곱을 계산하세요. (`**` 연산자 사용)\n",
    "    *   7을 2로 나눈 나머지를 계산하세요. (`%` 연산자 사용)"
   ]
  },
  {
   "cell_type": "code",
   "execution_count": null,
   "id": "1b6c68d1",
   "metadata": {},
   "outputs": [
    {
     "name": "stdout",
     "output_type": "stream",
     "text": [
      "243\n",
      "1\n",
      "몫 구하기 = 3.5\n"
     ]
    }
   ],
   "source": [
    "print (3 ** 5)\n",
    "print (7 % 2)\n",
    "print (f'몫 구하기 = {7/2}')"
   ]
  },
  {
   "cell_type": "markdown",
   "id": "8c537fbd",
   "metadata": {},
   "source": [
    "3.  **문제:** 변수 `a`에 1을 할당하고 다음 작업을 수행하는 코드를 작성하고 각 단계마다 `a`의 값을 출력하세요.\n",
    "    *   `a`에 1을 더하는 증가 연산(`+=`)을 수행하세요.\n",
    "    *   `a`에서 1을 빼는 감소 연산(`-=`)을 수행하세요."
   ]
  },
  {
   "cell_type": "code",
   "execution_count": 3,
   "id": "8ab5446f",
   "metadata": {},
   "outputs": [
    {
     "name": "stdout",
     "output_type": "stream",
     "text": [
      "2\n",
      "1\n"
     ]
    }
   ],
   "source": [
    "a = 1\n",
    "\n",
    "a += 1\n",
    "\n",
    "print (a)\n",
    "\n",
    "a -= 1\n",
    "\n",
    "print(a)"
   ]
  },
  {
   "cell_type": "markdown",
   "id": "99130437",
   "metadata": {},
   "source": [
    "4.  **문제:** `cities = ['서울', '부산', '인천', '대구', '대전', '광주', '울산', '수원']` 리스트를 사용하여 다음 슬라이싱 작업을 수행하는 코드를 작성하고 결과를 출력하세요.\n",
    "    *   인덱스 0부터 5까지의 요소를 출력하세요.\n",
    "    *   리스트 전체를 슬라이싱을 사용하여 출력하세요.\n",
    "    *   두 칸 단위로 요소를 건너뛰며 출력하세요.\n",
    "    *   리스트를 역순으로 출력하세요."
   ]
  },
  {
   "cell_type": "code",
   "execution_count": 9,
   "id": "323f9573",
   "metadata": {},
   "outputs": [
    {
     "name": "stdout",
     "output_type": "stream",
     "text": [
      "['서울', '부산', '인천', '대구', '대전', '광주']\n",
      "['서울', '부산', '인천', '대구', '대전', '광주', '울산', '수원']\n",
      "['서울', '인천', '대전', '울산']\n",
      "['수원', '울산', '광주', '대전', '대구', '인천', '부산', '서울']\n"
     ]
    }
   ],
   "source": [
    "cities = ['서울', '부산', '인천', '대구', '대전', '광주', '울산', '수원']\n",
    "\n",
    "print (cities[0:6]) # 마지막 포함 안되니 주의 \n",
    "print (cities[:])\n",
    "print (cities[0::2]) # 시작 : 끝 : 단계\n",
    "print (cities[::-1]) # 단계 진행 방향을 기본값 + 1 => -1 로 변경 \n"
   ]
  },
  {
   "cell_type": "markdown",
   "id": "e0ef86ce",
   "metadata": {},
   "source": [
    "5.  **문제:** `color = ['red', 'blue', 'green']` 리스트를 사용하여 다음 작업을 수행하는 코드를 작성하고 각 작업 후 `color` 리스트의 상태를 출력하세요.\n",
    "    *   리스트의 0번째 값을 'yellow'로 변경하세요.\n",
    "    *   리스트에 'white'를 추가하세요.\n",
    "    *   리스트에 `[\"black\", \"purple\"]`을 새로운 요소로 확장하세요.\n",
    "    *   0번째 주소에 'orange'를 삽입하세요.\n",
    "    *   리스트에서 'white'를 삭제하세요.\n",
    "    *   리스트의 0번째 주소에 있는 객체를 삭제하세요."
   ]
  },
  {
   "cell_type": "code",
   "execution_count": 29,
   "id": "0c9172ac",
   "metadata": {},
   "outputs": [
    {
     "name": "stdout",
     "output_type": "stream",
     "text": [
      "['red', 'blue', 'green']\n",
      "['yellow', 'blue', 'green']\n",
      "['yellow', 'blue', 'green', 'white']\n",
      "['yellow', 'blue', 'green', 'white', 'black', 'purple']\n",
      "['orange', 'yellow', 'blue', 'green', 'white', 'black', 'purple']\n",
      "['orange', 'yellow', 'blue', 'green', 'black', 'purple']\n",
      "['yellow', 'blue', 'green', 'black', 'purple']\n"
     ]
    }
   ],
   "source": [
    "color = ['red', 'blue', 'green']\n",
    "print(color)\n",
    "\n",
    "color[0] = 'yellow'\n",
    "print(color)\n",
    "\n",
    "color.append('white')\n",
    "print(color)\n",
    "\n",
    "color.extend(['black', 'purple'])\n",
    "print (color)\n",
    "\n",
    "color.insert(0, 'orange')\n",
    "print (color)\n",
    "\n",
    "color.remove('white')\n",
    "print (color)\n",
    "\n",
    "color = color[1:]\n",
    "print(color)\n"
   ]
  },
  {
   "cell_type": "markdown",
   "id": "3a44c911",
   "metadata": {},
   "source": [
    "6.  **문제:** 다음 점수 데이터를 사용하여 이차원 리스트를 생성하고 특정 요소를 출력하는 코드를 작성하세요.\n",
    "    *   `kor_score = [49,79,20,100,80]`\n",
    "    *   `math_score = [43,59,85,30, 90]`\n",
    "    *   `eng_score = [49,79,48,60,100]`\n",
    "    *   위 세 리스트를 포함하는 `midterm_score`라는 이차원 리스트를 만드세요.\n",
    "    *   `midterm_score`의 0번째 행의 2번째 열에 있는 값을 출력하세요."
   ]
  },
  {
   "cell_type": "code",
   "execution_count": 47,
   "id": "64296046",
   "metadata": {},
   "outputs": [
    {
     "name": "stdout",
     "output_type": "stream",
     "text": [
      "[[49, 79, 20, 100, 80], [43, 59, 85, 30, 90], [49, 79, 48, 60, 100]]\n",
      "20\n"
     ]
    }
   ],
   "source": [
    "kor_score = [49, 79, 20, 100, 80]\n",
    "math_score = [43, 59, 85, 30, 90]\n",
    "eng_score = [49, 79, 48, 60, 100]\n",
    "\n",
    "midterm_score = [kor_score, math_score, eng_score]\n",
    "\n",
    "print(midterm_score)\n",
    "print(midterm_score[0][2])"
   ]
  },
  {
   "cell_type": "markdown",
   "id": "972088e5",
   "metadata": {},
   "source": [
    "7.  **문제:** 이차원 리스트의 메모리 저장 방식에 대한 이해를 바탕으로, 이차원 리스트를 복사하는 두 가지 방법을 코드로 보여주고 각 방법의 결과를 설명하세요.\n",
    "    *   원래 이차원 리스트를 하나 생성하세요.\n",
    "    *   하나의 리스트를 다른 리스트에 할당(`b = a`)한 후, 원본 리스트를 변경했을 때 할당받은 리스트에 어떤 영향을 미치는지 코드로 보여주세요.\n",
    "    *   원본 리스트와 독립적인 복사본을 생성하는 방법을 코드로 보여주고, 원본 리스트를 변경해도 복사본에 영향을 주지 않음을 입증하세요. (참고: 소스에 직접적인 복사 함수가 언급되어 있지는 않지만, 리스트의 메모리 저장 방식을 이해하는 것이 중요합니다.)"
   ]
  },
  {
   "cell_type": "code",
   "execution_count": null,
   "id": "e78521be",
   "metadata": {},
   "outputs": [
    {
     "name": "stdout",
     "output_type": "stream",
     "text": [
      "[[49, 79, 20, 100, 80], [43, 59, 85, 30, 90], [49, 79, 48, 60, 100]]\n",
      "[[999, 79, 20, 100, 80], [43, 59, 85, 30, 90], [49, 79, 48, 60, 100]]\n",
      "a는 변경 되었는가 : [[999, 79, 0, 100, 80], [43, 59, 85, 30, 90], [49, 79, 48, 60, 100]]\n",
      "b는 그대로인가 : [[999, 79, 20, 100, 80], [43, 59, 85, 30, 90], [49, 79, 48, 60, 100]]\n"
     ]
    }
   ],
   "source": [
    "import copy\n",
    "\n",
    "# 주의! 쥬피터 랩에선 기존 작성 변수에 영향을 주면 각 줄에 그대로 또 영향을 준다.\n",
    "# 기본적으로 깊은 복사를 해야 한다면 copy 패키지 사용 외에는 방법 없고, 재귀로 직접 구현해야 한다.\n",
    "\n",
    "a = copy.deepcopy(midterm_score)\n",
    "print (a)\n",
    "a[0][0] = 999\n",
    "print (a) # a 역시 같은 메모리를 공유하므로 그대로 사용하므로 변경사항에 영향을 받음 \n",
    "\n",
    "b = copy.deepcopy(a)\n",
    "a[0][2] = 0\n",
    "print (f'a는 변경 되었는가 : {a}')\n",
    "print (f'b는 그대로인가 : {b}')"
   ]
  }
 ],
 "metadata": {
  "kernelspec": {
   "display_name": "example-001",
   "language": "python",
   "name": "python3"
  },
  "language_info": {
   "codemirror_mode": {
    "name": "ipython",
    "version": 3
   },
   "file_extension": ".py",
   "mimetype": "text/x-python",
   "name": "python",
   "nbconvert_exporter": "python",
   "pygments_lexer": "ipython3",
   "version": "3.9.23"
  }
 },
 "nbformat": 4,
 "nbformat_minor": 5
}
