{
 "cells": [
  {
   "cell_type": "markdown",
   "id": "b6db748e",
   "metadata": {},
   "source": [
    "1.  **문제:** 다음 변환 작업을 코드로 작성하고 각 단계별 변수의 값과 타입을 출력하세요.\n",
    "    *   문자열 '76.3'을 `a`에 할당하고 이를 실수형으로 변환하여 `b`에 할당합니다.\n",
    "    *   `a`와 `b`의 값을 각각 출력하세요.\n",
    "    *   `a`와 `b`를 더하려고 시도할 때 발생하는 오류를 확인하고, 이 오류를 해결하기 위해 `a`와 `b`의 타입을 어떻게 맞출 수 있는지 코드로 보여주세요. 그런 다음 두 변수를 더한 값을 출력하세요.\n",
    "    *   두 실수형 변수를 문자열로 변환한 후 연결(concatenate)하는 코드를 작성하고 결과를 출력하세요."
   ]
  },
  {
   "cell_type": "code",
   "execution_count": null,
   "id": "683a03c5",
   "metadata": {},
   "outputs": [
    {
     "name": "stdout",
     "output_type": "stream",
     "text": [
      "76.3 76.3\n",
      "76.376.3\n"
     ]
    }
   ],
   "source": [
    "a = '76.3'\n",
    "b = float(a)\n",
    "\n",
    "print(a, b)"
   ]
  },
  {
   "cell_type": "code",
   "execution_count": 10,
   "id": "198a86c0",
   "metadata": {},
   "outputs": [
    {
     "name": "stdout",
     "output_type": "stream",
     "text": [
      "76.376.3\n"
     ]
    }
   ],
   "source": [
    "b_1 = str(b)\n",
    "print(a + b_1)"
   ]
  },
  {
   "cell_type": "code",
   "execution_count": 12,
   "id": "bc9a84b7",
   "metadata": {},
   "outputs": [
    {
     "name": "stdout",
     "output_type": "stream",
     "text": [
      "152.6\n"
     ]
    }
   ],
   "source": [
    "a_1 = float(a)\n",
    "print (a_1 + b)"
   ]
  },
  {
   "cell_type": "code",
   "execution_count": 13,
   "id": "a6a20fcb",
   "metadata": {},
   "outputs": [
    {
     "name": "stdout",
     "output_type": "stream",
     "text": [
      "76.376.3\n"
     ]
    }
   ],
   "source": [
    "c = str(a_1)\n",
    "d = str(b)\n",
    "e = c + d\n",
    "print (e)"
   ]
  },
  {
   "cell_type": "markdown",
   "id": "5c90b31e",
   "metadata": {},
   "source": [
    "2.  **문제:** 주어진 연산자를 사용하여 다음을 계산하는 코드를 작성하고 결과를 출력하세요.\n",
    "    *   3의 5제곱을 계산하세요. (`**` 연산자 사용)\n",
    "    *   7을 2로 나눈 나머지를 계산하세요. (`%` 연산자 사용)"
   ]
  },
  {
   "cell_type": "code",
   "execution_count": 16,
   "id": "1b6c68d1",
   "metadata": {},
   "outputs": [
    {
     "name": "stdout",
     "output_type": "stream",
     "text": [
      "243\n",
      "1\n",
      "몫 구하기 = 3.5\n"
     ]
    }
   ],
   "source": [
    "print (3 ** 5)\n",
    "print (7 % 2)\n",
    "print(f'몫 구하기 = {7/2}')"
   ]
  }
 ],
 "metadata": {
  "kernelspec": {
   "display_name": "example-001",
   "language": "python",
   "name": "python3"
  },
  "language_info": {
   "codemirror_mode": {
    "name": "ipython",
    "version": 3
   },
   "file_extension": ".py",
   "mimetype": "text/x-python",
   "name": "python",
   "nbconvert_exporter": "python",
   "pygments_lexer": "ipython3",
   "version": "3.9.23"
  }
 },
 "nbformat": 4,
 "nbformat_minor": 5
}
